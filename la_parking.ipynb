{
 "cells": [
  {
   "cell_type": "code",
   "execution_count": 75,
   "metadata": {
    "_cell_guid": "b1076dfc-b9ad-4769-8c92-a6c4dae69d19",
    "_kg_hide-input": true,
    "_kg_hide-output": true,
    "_uuid": "8f2839f25d086af736a60e9eeb907d3b93b6e0e5",
    "scrolled": false
   },
   "outputs": [
    {
     "ename": "ModuleNotFoundError",
     "evalue": "No module named 'seaborn'",
     "output_type": "error",
     "traceback": [
      "\u001b[0;31m---------------------------------------------------------------------------\u001b[0m",
      "\u001b[0;31mModuleNotFoundError\u001b[0m                       Traceback (most recent call last)",
      "Cell \u001b[0;32mIn[75], line 5\u001b[0m\n\u001b[1;32m      3\u001b[0m \u001b[39mimport\u001b[39;00m \u001b[39mmatplotlib\u001b[39;00m\u001b[39m.\u001b[39;00m\u001b[39mpyplot\u001b[39;00m \u001b[39mas\u001b[39;00m \u001b[39mplt\u001b[39;00m\n\u001b[1;32m      4\u001b[0m \u001b[39mimport\u001b[39;00m \u001b[39mpandas\u001b[39;00m \u001b[39mas\u001b[39;00m \u001b[39mpd\u001b[39;00m\n\u001b[0;32m----> 5\u001b[0m \u001b[39mimport\u001b[39;00m \u001b[39mseaborn\u001b[39;00m \u001b[39mas\u001b[39;00m \u001b[39msns\u001b[39;00m\n\u001b[1;32m      6\u001b[0m \u001b[39mimport\u001b[39;00m \u001b[39mdatetime\u001b[39;00m \u001b[39mas\u001b[39;00m \u001b[39mDT\u001b[39;00m\n\u001b[1;32m      7\u001b[0m \u001b[39mimport\u001b[39;00m \u001b[39msys\u001b[39;00m\n",
      "\u001b[0;31mModuleNotFoundError\u001b[0m: No module named 'seaborn'"
     ]
    }
   ],
   "source": [
    "import numpy as np\n",
    "import pandas as pd\n",
    "import matplotlib.pyplot as plt\n",
    "import pandas as pd\n",
    "import seaborn as sns\n",
    "import datetime as DT\n",
    "import sys\n",
    "from csvvalidator import *\n",
    "import os\n",
    "\n",
    "pd.set_option('display.float_format', lambda x: '%.3f' % x)"
   ]
  },
  {
   "cell_type": "code",
   "execution_count": 76,
   "metadata": {
    "_kg_hide-input": true,
    "_kg_hide-output": true,
    "_uuid": "09f619e978197081a290acf626007b655d5ee171"
   },
   "outputs": [
    {
     "ename": "NameError",
     "evalue": "name 'CSVValidator' is not defined",
     "output_type": "error",
     "traceback": [
      "\u001b[0;31m---------------------------------------------------------------------------\u001b[0m",
      "\u001b[0;31mNameError\u001b[0m                                 Traceback (most recent call last)",
      "Cell \u001b[0;32mIn[76], line 10\u001b[0m\n\u001b[1;32m      1\u001b[0m \u001b[39m#Validate data\u001b[39;00m\n\u001b[1;32m      2\u001b[0m field_names \u001b[39m=\u001b[39m (\n\u001b[1;32m      3\u001b[0m                \u001b[39m'\u001b[39m\u001b[39mTicket number\u001b[39m\u001b[39m'\u001b[39m,\n\u001b[1;32m      4\u001b[0m                \u001b[39m'\u001b[39m\u001b[39mIssue Date\u001b[39m\u001b[39m'\u001b[39m,\n\u001b[0;32m   (...)\u001b[0m\n\u001b[1;32m      8\u001b[0m                \u001b[39m'\u001b[39m\u001b[39mViolation Description\u001b[39m\u001b[39m'\u001b[39m\n\u001b[1;32m      9\u001b[0m                )\n\u001b[0;32m---> 10\u001b[0m validator \u001b[39m=\u001b[39m CSVValidator(field_names)\n\u001b[1;32m     11\u001b[0m \u001b[39m# basic header and record length checks\u001b[39;00m\n\u001b[1;32m     12\u001b[0m validator\u001b[39m.\u001b[39madd_header_check(\u001b[39m'\u001b[39m\u001b[39mEX1\u001b[39m\u001b[39m'\u001b[39m, \u001b[39m'\u001b[39m\u001b[39mbad header\u001b[39m\u001b[39m'\u001b[39m)\n",
      "\u001b[0;31mNameError\u001b[0m: name 'CSVValidator' is not defined"
     ]
    }
   ],
   "source": [
    "#Validate data\n",
    "field_names = (\n",
    "               'Ticket number',\n",
    "               'Issue Date',\n",
    "               'Latitude',\n",
    "               'Longitude',\n",
    "               'Issue time',\n",
    "               'Violation Description'\n",
    "               )\n",
    "validator = CSVValidator(field_names)\n",
    "# basic header and record length checks\n",
    "validator.add_header_check('EX1', 'bad header')\n",
    "validator.add_record_length_check('EX2', 'unexpected record length')"
   ]
  },
  {
   "cell_type": "code",
   "execution_count": 3,
   "metadata": {},
   "outputs": [
    {
     "data": {
      "text/html": [
       "<div>\n",
       "<style scoped>\n",
       "    .dataframe tbody tr th:only-of-type {\n",
       "        vertical-align: middle;\n",
       "    }\n",
       "\n",
       "    .dataframe tbody tr th {\n",
       "        vertical-align: top;\n",
       "    }\n",
       "\n",
       "    .dataframe thead th {\n",
       "        text-align: right;\n",
       "    }\n",
       "</style>\n",
       "<table border=\"1\" class=\"dataframe\">\n",
       "  <thead>\n",
       "    <tr style=\"text-align: right;\">\n",
       "      <th></th>\n",
       "      <th>Ticket number</th>\n",
       "      <th>Issue Date</th>\n",
       "      <th>Issue time</th>\n",
       "      <th>Meter Id</th>\n",
       "      <th>Marked Time</th>\n",
       "      <th>RP State Plate</th>\n",
       "      <th>Plate Expiry Date</th>\n",
       "      <th>VIN</th>\n",
       "      <th>Make</th>\n",
       "      <th>Body Style</th>\n",
       "      <th>...</th>\n",
       "      <th>Route</th>\n",
       "      <th>Agency</th>\n",
       "      <th>Violation code</th>\n",
       "      <th>Violation Description</th>\n",
       "      <th>Fine amount</th>\n",
       "      <th>Latitude</th>\n",
       "      <th>Longitude</th>\n",
       "      <th>Agency Description</th>\n",
       "      <th>Color Description</th>\n",
       "      <th>Body Style Description</th>\n",
       "    </tr>\n",
       "  </thead>\n",
       "  <tbody>\n",
       "    <tr>\n",
       "      <th>0</th>\n",
       "      <td>4555162286</td>\n",
       "      <td>09/14/2022</td>\n",
       "      <td>1343</td>\n",
       "      <td>NaN</td>\n",
       "      <td>0.000</td>\n",
       "      <td>CA</td>\n",
       "      <td>202305</td>\n",
       "      <td>NaN</td>\n",
       "      <td>MAZD</td>\n",
       "      <td>PA</td>\n",
       "      <td>...</td>\n",
       "      <td>NaN</td>\n",
       "      <td>54</td>\n",
       "      <td>80.56E1</td>\n",
       "      <td>WHITE ZONE</td>\n",
       "      <td>58</td>\n",
       "      <td>6458719.509</td>\n",
       "      <td>1859071.049</td>\n",
       "      <td>54 - DOT - HOLLYWOOD</td>\n",
       "      <td>GREY</td>\n",
       "      <td>PASSENGER CAR</td>\n",
       "    </tr>\n",
       "    <tr>\n",
       "      <th>1</th>\n",
       "      <td>1120740482</td>\n",
       "      <td>01/30/2022</td>\n",
       "      <td>1030</td>\n",
       "      <td>NaN</td>\n",
       "      <td>NaN</td>\n",
       "      <td>CA</td>\n",
       "      <td>202103</td>\n",
       "      <td>NaN</td>\n",
       "      <td>RAM</td>\n",
       "      <td>TR</td>\n",
       "      <td>...</td>\n",
       "      <td>5A85</td>\n",
       "      <td>1</td>\n",
       "      <td>NaN</td>\n",
       "      <td>NaN</td>\n",
       "      <td>93</td>\n",
       "      <td>99999.000</td>\n",
       "      <td>99999.000</td>\n",
       "      <td>WESTERN</td>\n",
       "      <td>BLACK</td>\n",
       "      <td>TRAILER</td>\n",
       "    </tr>\n",
       "    <tr>\n",
       "      <th>2</th>\n",
       "      <td>1111081311</td>\n",
       "      <td>06/09/2022</td>\n",
       "      <td>808</td>\n",
       "      <td>NaN</td>\n",
       "      <td>NaN</td>\n",
       "      <td>CA</td>\n",
       "      <td>202101</td>\n",
       "      <td>NaN</td>\n",
       "      <td>TOYO</td>\n",
       "      <td>SU</td>\n",
       "      <td>...</td>\n",
       "      <td>00561</td>\n",
       "      <td>55</td>\n",
       "      <td>8056E4</td>\n",
       "      <td>NaN</td>\n",
       "      <td>93</td>\n",
       "      <td>6472422.966</td>\n",
       "      <td>1748169.243</td>\n",
       "      <td>55 - DOT - SOUTHERN</td>\n",
       "      <td>NaN</td>\n",
       "      <td>NaN</td>\n",
       "    </tr>\n",
       "    <tr>\n",
       "      <th>3</th>\n",
       "      <td>4555248633</td>\n",
       "      <td>09/06/2022</td>\n",
       "      <td>904</td>\n",
       "      <td>NaN</td>\n",
       "      <td>0.000</td>\n",
       "      <td>CA</td>\n",
       "      <td>201910</td>\n",
       "      <td>NaN</td>\n",
       "      <td>OTHR</td>\n",
       "      <td>PA</td>\n",
       "      <td>...</td>\n",
       "      <td>NaN</td>\n",
       "      <td>51</td>\n",
       "      <td>5204A-</td>\n",
       "      <td>DISPLAY OF TABS</td>\n",
       "      <td>25</td>\n",
       "      <td>6454803.494</td>\n",
       "      <td>1840042.963</td>\n",
       "      <td>51 - DOT - WESTERN</td>\n",
       "      <td>TAN</td>\n",
       "      <td>PASSENGER CAR</td>\n",
       "    </tr>\n",
       "    <tr>\n",
       "      <th>4</th>\n",
       "      <td>4549605012</td>\n",
       "      <td>05/26/2022</td>\n",
       "      <td>1656</td>\n",
       "      <td>NaN</td>\n",
       "      <td>0.000</td>\n",
       "      <td>CA</td>\n",
       "      <td>202211</td>\n",
       "      <td>NaN</td>\n",
       "      <td>HOND</td>\n",
       "      <td>PA</td>\n",
       "      <td>...</td>\n",
       "      <td>0402A</td>\n",
       "      <td>54</td>\n",
       "      <td>80.56E4+</td>\n",
       "      <td>RED ZONE</td>\n",
       "      <td>93</td>\n",
       "      <td>6472951.712</td>\n",
       "      <td>1846223.696</td>\n",
       "      <td>54 - DOT - HOLLYWOOD</td>\n",
       "      <td>GREY</td>\n",
       "      <td>PASSENGER CAR</td>\n",
       "    </tr>\n",
       "  </tbody>\n",
       "</table>\n",
       "<p>5 rows × 22 columns</p>\n",
       "</div>"
      ],
      "text/plain": [
       "  Ticket number  Issue Date  Issue time Meter Id  Marked Time RP State Plate  \\\n",
       "0    4555162286  09/14/2022        1343      NaN        0.000             CA   \n",
       "1    1120740482  01/30/2022        1030      NaN          NaN             CA   \n",
       "2    1111081311  06/09/2022         808      NaN          NaN             CA   \n",
       "3    4555248633  09/06/2022         904      NaN        0.000             CA   \n",
       "4    4549605012  05/26/2022        1656      NaN        0.000             CA   \n",
       "\n",
       "   Plate Expiry Date  VIN  Make Body Style  ...  Route Agency Violation code  \\\n",
       "0             202305  NaN  MAZD         PA  ...    NaN     54        80.56E1   \n",
       "1             202103  NaN   RAM         TR  ...   5A85      1            NaN   \n",
       "2             202101  NaN  TOYO         SU  ...  00561     55         8056E4   \n",
       "3             201910  NaN  OTHR         PA  ...    NaN     51         5204A-   \n",
       "4             202211  NaN  HOND         PA  ...  0402A     54       80.56E4+   \n",
       "\n",
       "   Violation Description Fine amount    Latitude   Longitude  \\\n",
       "0             WHITE ZONE          58 6458719.509 1859071.049   \n",
       "1                    NaN          93   99999.000   99999.000   \n",
       "2                    NaN          93 6472422.966 1748169.243   \n",
       "3        DISPLAY OF TABS          25 6454803.494 1840042.963   \n",
       "4               RED ZONE          93 6472951.712 1846223.696   \n",
       "\n",
       "     Agency Description  Color Description Body Style Description  \n",
       "0  54 - DOT - HOLLYWOOD               GREY          PASSENGER CAR  \n",
       "1               WESTERN              BLACK                TRAILER  \n",
       "2   55 - DOT - SOUTHERN                NaN                    NaN  \n",
       "3    51 - DOT - WESTERN                TAN          PASSENGER CAR  \n",
       "4  54 - DOT - HOLLYWOOD               GREY          PASSENGER CAR  \n",
       "\n",
       "[5 rows x 22 columns]"
      ]
     },
     "execution_count": 3,
     "metadata": {},
     "output_type": "execute_result"
    }
   ],
   "source": [
    "df.head()"
   ]
  },
  {
   "cell_type": "code",
   "execution_count": 4,
   "metadata": {
    "_kg_hide-input": true,
    "_kg_hide-output": false,
    "_uuid": "ede4493e4dc3099a4c74b487e757fe29e7845c7b"
   },
   "outputs": [
    {
     "name": "stdout",
     "output_type": "stream",
     "text": [
      "Violation Description is OK\n",
      "Ticket number is OK\n",
      "Latitude is OK\n",
      "Longitude is OK\n",
      "Issue time is OK\n"
     ]
    }
   ],
   "source": [
    "#violation Description\n",
    "assert pd.api.types.is_string_dtype(df['Violation Description'])\n",
    "print('Violation Description is OK')\n",
    "\n",
    "#ticket number\n",
    "assert pd.api.types.is_string_dtype(df['Ticket number'])\n",
    "print('Ticket number is OK')\n",
    "\n",
    "#Lat/Lon\n",
    "assert pd.api.types.is_float_dtype(df['Latitude'])\n",
    "print('Latitude is OK')\n",
    "assert pd.api.types.is_float_dtype(df['Longitude'])\n",
    "print('Longitude is OK')\n",
    "\n",
    "#Issue Time\n",
    "assert pd.api.types.is_integer_dtype(df['Issue time'])\n",
    "print('Issue time is OK')"
   ]
  },
  {
   "cell_type": "code",
   "execution_count": 5,
   "metadata": {
    "_kg_hide-input": true,
    "_kg_hide-output": true,
    "_uuid": "dc9b18171dc4a89857969dc1cca23417053400bb"
   },
   "outputs": [
    {
     "data": {
      "text/html": [
       "<div>\n",
       "<style scoped>\n",
       "    .dataframe tbody tr th:only-of-type {\n",
       "        vertical-align: middle;\n",
       "    }\n",
       "\n",
       "    .dataframe tbody tr th {\n",
       "        vertical-align: top;\n",
       "    }\n",
       "\n",
       "    .dataframe thead th {\n",
       "        text-align: right;\n",
       "    }\n",
       "</style>\n",
       "<table border=\"1\" class=\"dataframe\">\n",
       "  <thead>\n",
       "    <tr style=\"text-align: right;\">\n",
       "      <th></th>\n",
       "      <th>Ticket number</th>\n",
       "      <th>Issue Date</th>\n",
       "      <th>Issue time</th>\n",
       "      <th>Meter Id</th>\n",
       "      <th>Marked Time</th>\n",
       "      <th>RP State Plate</th>\n",
       "      <th>Plate Expiry Date</th>\n",
       "      <th>VIN</th>\n",
       "      <th>Make</th>\n",
       "      <th>Body Style</th>\n",
       "      <th>...</th>\n",
       "      <th>Route</th>\n",
       "      <th>Agency</th>\n",
       "      <th>Violation code</th>\n",
       "      <th>Violation Description</th>\n",
       "      <th>Fine amount</th>\n",
       "      <th>Latitude</th>\n",
       "      <th>Longitude</th>\n",
       "      <th>Agency Description</th>\n",
       "      <th>Color Description</th>\n",
       "      <th>Body Style Description</th>\n",
       "    </tr>\n",
       "  </thead>\n",
       "  <tbody>\n",
       "    <tr>\n",
       "      <th>0</th>\n",
       "      <td>4555162286</td>\n",
       "      <td>2022-09-14</td>\n",
       "      <td>1343</td>\n",
       "      <td>NaN</td>\n",
       "      <td>0.000</td>\n",
       "      <td>CA</td>\n",
       "      <td>202305</td>\n",
       "      <td>NaN</td>\n",
       "      <td>MAZD</td>\n",
       "      <td>PA</td>\n",
       "      <td>...</td>\n",
       "      <td>NaN</td>\n",
       "      <td>54</td>\n",
       "      <td>80.56E1</td>\n",
       "      <td>WHITE ZONE</td>\n",
       "      <td>58</td>\n",
       "      <td>6458719.509</td>\n",
       "      <td>1859071.049</td>\n",
       "      <td>54 - DOT - HOLLYWOOD</td>\n",
       "      <td>GREY</td>\n",
       "      <td>PASSENGER CAR</td>\n",
       "    </tr>\n",
       "    <tr>\n",
       "      <th>1</th>\n",
       "      <td>1120740482</td>\n",
       "      <td>2022-01-30</td>\n",
       "      <td>1030</td>\n",
       "      <td>NaN</td>\n",
       "      <td>NaN</td>\n",
       "      <td>CA</td>\n",
       "      <td>202103</td>\n",
       "      <td>NaN</td>\n",
       "      <td>RAM</td>\n",
       "      <td>TR</td>\n",
       "      <td>...</td>\n",
       "      <td>5A85</td>\n",
       "      <td>1</td>\n",
       "      <td>NaN</td>\n",
       "      <td>NaN</td>\n",
       "      <td>93</td>\n",
       "      <td>99999.000</td>\n",
       "      <td>99999.000</td>\n",
       "      <td>WESTERN</td>\n",
       "      <td>BLACK</td>\n",
       "      <td>TRAILER</td>\n",
       "    </tr>\n",
       "    <tr>\n",
       "      <th>2</th>\n",
       "      <td>1111081311</td>\n",
       "      <td>2022-06-09</td>\n",
       "      <td>808</td>\n",
       "      <td>NaN</td>\n",
       "      <td>NaN</td>\n",
       "      <td>CA</td>\n",
       "      <td>202101</td>\n",
       "      <td>NaN</td>\n",
       "      <td>TOYO</td>\n",
       "      <td>SU</td>\n",
       "      <td>...</td>\n",
       "      <td>00561</td>\n",
       "      <td>55</td>\n",
       "      <td>8056E4</td>\n",
       "      <td>NaN</td>\n",
       "      <td>93</td>\n",
       "      <td>6472422.966</td>\n",
       "      <td>1748169.243</td>\n",
       "      <td>55 - DOT - SOUTHERN</td>\n",
       "      <td>NaN</td>\n",
       "      <td>NaN</td>\n",
       "    </tr>\n",
       "    <tr>\n",
       "      <th>3</th>\n",
       "      <td>4555248633</td>\n",
       "      <td>2022-09-06</td>\n",
       "      <td>904</td>\n",
       "      <td>NaN</td>\n",
       "      <td>0.000</td>\n",
       "      <td>CA</td>\n",
       "      <td>201910</td>\n",
       "      <td>NaN</td>\n",
       "      <td>OTHR</td>\n",
       "      <td>PA</td>\n",
       "      <td>...</td>\n",
       "      <td>NaN</td>\n",
       "      <td>51</td>\n",
       "      <td>5204A-</td>\n",
       "      <td>DISPLAY OF TABS</td>\n",
       "      <td>25</td>\n",
       "      <td>6454803.494</td>\n",
       "      <td>1840042.963</td>\n",
       "      <td>51 - DOT - WESTERN</td>\n",
       "      <td>TAN</td>\n",
       "      <td>PASSENGER CAR</td>\n",
       "    </tr>\n",
       "    <tr>\n",
       "      <th>4</th>\n",
       "      <td>4549605012</td>\n",
       "      <td>2022-05-26</td>\n",
       "      <td>1656</td>\n",
       "      <td>NaN</td>\n",
       "      <td>0.000</td>\n",
       "      <td>CA</td>\n",
       "      <td>202211</td>\n",
       "      <td>NaN</td>\n",
       "      <td>HOND</td>\n",
       "      <td>PA</td>\n",
       "      <td>...</td>\n",
       "      <td>0402A</td>\n",
       "      <td>54</td>\n",
       "      <td>80.56E4+</td>\n",
       "      <td>RED ZONE</td>\n",
       "      <td>93</td>\n",
       "      <td>6472951.712</td>\n",
       "      <td>1846223.696</td>\n",
       "      <td>54 - DOT - HOLLYWOOD</td>\n",
       "      <td>GREY</td>\n",
       "      <td>PASSENGER CAR</td>\n",
       "    </tr>\n",
       "  </tbody>\n",
       "</table>\n",
       "<p>5 rows × 22 columns</p>\n",
       "</div>"
      ],
      "text/plain": [
       "  Ticket number Issue Date  Issue time Meter Id  Marked Time RP State Plate  \\\n",
       "0    4555162286 2022-09-14        1343      NaN        0.000             CA   \n",
       "1    1120740482 2022-01-30        1030      NaN          NaN             CA   \n",
       "2    1111081311 2022-06-09         808      NaN          NaN             CA   \n",
       "3    4555248633 2022-09-06         904      NaN        0.000             CA   \n",
       "4    4549605012 2022-05-26        1656      NaN        0.000             CA   \n",
       "\n",
       "   Plate Expiry Date  VIN  Make Body Style  ...  Route Agency Violation code  \\\n",
       "0             202305  NaN  MAZD         PA  ...    NaN     54        80.56E1   \n",
       "1             202103  NaN   RAM         TR  ...   5A85      1            NaN   \n",
       "2             202101  NaN  TOYO         SU  ...  00561     55         8056E4   \n",
       "3             201910  NaN  OTHR         PA  ...    NaN     51         5204A-   \n",
       "4             202211  NaN  HOND         PA  ...  0402A     54       80.56E4+   \n",
       "\n",
       "   Violation Description Fine amount    Latitude   Longitude  \\\n",
       "0             WHITE ZONE          58 6458719.509 1859071.049   \n",
       "1                    NaN          93   99999.000   99999.000   \n",
       "2                    NaN          93 6472422.966 1748169.243   \n",
       "3        DISPLAY OF TABS          25 6454803.494 1840042.963   \n",
       "4               RED ZONE          93 6472951.712 1846223.696   \n",
       "\n",
       "     Agency Description  Color Description Body Style Description  \n",
       "0  54 - DOT - HOLLYWOOD               GREY          PASSENGER CAR  \n",
       "1               WESTERN              BLACK                TRAILER  \n",
       "2   55 - DOT - SOUTHERN                NaN                    NaN  \n",
       "3    51 - DOT - WESTERN                TAN          PASSENGER CAR  \n",
       "4  54 - DOT - HOLLYWOOD               GREY          PASSENGER CAR  \n",
       "\n",
       "[5 rows x 22 columns]"
      ]
     },
     "execution_count": 5,
     "metadata": {},
     "output_type": "execute_result"
    }
   ],
   "source": [
    "#updating formatting so that I can translate issue date to datetime\n",
    "df['Issue Date'] = df[df['Issue Date'].notnull()]['Issue Date'].apply(lambda x: x.split('T')[0])\n",
    "df['Issue Date'] = pd.to_datetime(df['Issue Date'], infer_datetime_format=True)\n",
    "\n",
    "#limiting dataset so it's easy to work with\n",
    "today = pd.Timestamp('today').normalize()\n",
    "df.head()"
   ]
  },
  {
   "cell_type": "code",
   "execution_count": 6,
   "metadata": {
    "_kg_hide-input": true,
    "_kg_hide-output": true,
    "_uuid": "e81ae7fa7a879cb3b6d5fe17fc9a3461e482117b"
   },
   "outputs": [],
   "source": [
    "#pad anything that is less than 4 digits then isolate just the hours\n",
    "df['Issue time'] = df['Issue time'].astype(str)\n",
    "df['Issue time'] = df['Issue time'].apply(lambda x: x.split('.')[0])\n",
    "df['Issue time'] = df[df['Issue time'].notnull()]['Issue time'].apply(lambda x: x.zfill(4))\n",
    "df['Issue Hour'] = df[df['Issue time']!='0nan']['Issue time'].apply(lambda x: DT.datetime.strptime(x,'%H%M').hour)\n",
    "\n",
    "#clean lat lon\n",
    "df['Latitude'] = np.where(df['Latitude']==99999.000, np.nan, df['Latitude'])\n",
    "df['Longitude'] = np.where(df['Longitude']==99999.000, np.nan, df['Longitude'])\n",
    "\n",
    "#string for ticketnum\n",
    "df['Ticket number'] = df['Ticket number'].astype(str)"
   ]
  },
  {
   "cell_type": "code",
   "execution_count": 7,
   "metadata": {
    "_kg_hide-input": true,
    "_kg_hide-output": true,
    "_uuid": "48549d3f8fa12346edc866ec252b8dd414667708"
   },
   "outputs": [
    {
     "name": "stderr",
     "output_type": "stream",
     "text": [
      "/data/homezvol2/ddlin/mambaforge-pypy3/envs/plotly/lib/python3.8/site-packages/pyproj/crs/crs.py:141: FutureWarning: '+init=<authority>:<code>' syntax is deprecated. '<authority>:<code>' is the preferred initialization method. When making the change, be mindful of axis order changes: https://pyproj4.github.io/pyproj/stable/gotchas.html#axis-order-changes-in-proj-6\n",
      "  in_crs_string = _prepare_from_proj_string(in_crs_string)\n",
      "/tmp/ddlin/23122114/ipykernel_1357697/1413484023.py:5: FutureWarning: This function is deprecated. See: https://pyproj4.github.io/pyproj/stable/gotchas.html#upgrading-to-pyproj-2-from-pyproj-1\n",
      "  x2m,y2m = pyproj.transform(pyproj.Proj(pm,preserve_units = True), pyproj.Proj(\"+init=epsg:4326\"), x1m,y1m)\n"
     ]
    }
   ],
   "source": [
    "#Updating the Lat Lon\n",
    "import pyproj\n",
    "pm = '+proj=lcc +lat_1=34.03333333333333 +lat_2=35.46666666666667 +lat_0=33.5 +lon_0=-118 +x_0=2000000 +y_0=500000.0000000002 +ellps=GRS80 +datum=NAD83 +to_meter=0.3048006096012192 +no_defs'\n",
    "x1m,y1m = df['Latitude'].values, df['Longitude'].values\n",
    "x2m,y2m = pyproj.transform(pyproj.Proj(pm,preserve_units = True), pyproj.Proj(\"+init=epsg:4326\"), x1m,y1m)\n",
    "df['Latitude']=x2m\n",
    "df['Longitude']=y2m"
   ]
  },
  {
   "cell_type": "code",
   "execution_count": null,
   "metadata": {},
   "outputs": [],
   "source": []
  },
  {
   "cell_type": "code",
   "execution_count": 77,
   "metadata": {},
   "outputs": [
    {
     "name": "stderr",
     "output_type": "stream",
     "text": [
      "/tmp/ipykernel_14191/960009943.py:1: DtypeWarning: Columns (0) have mixed types. Specify dtype option on import or set low_memory=False.\n",
      "  df = pd.read_csv(\"../cleaned_2022_parking_citation.csv\")\n"
     ]
    }
   ],
   "source": [
    "df = pd.read_csv(\"../cleaned_2022_parking_citation.csv\")"
   ]
  },
  {
   "cell_type": "code",
   "execution_count": 78,
   "metadata": {},
   "outputs": [
    {
     "data": {
      "text/plain": [
       "Index(['Ticket number', 'Issue Date', 'Issue time', 'Meter Id', 'Marked Time',\n",
       "       'RP State Plate', 'Plate Expiry Date', 'VIN', 'Make', 'Body Style',\n",
       "       'Color', 'Location', 'Route', 'Agency', 'Violation code',\n",
       "       'Violation Description', 'Fine amount', 'Latitude', 'Longitude',\n",
       "       'Agency Description', 'Color Description', 'Body Style Description',\n",
       "       'Issue Hour'],\n",
       "      dtype='object')"
      ]
     },
     "execution_count": 78,
     "metadata": {},
     "output_type": "execute_result"
    }
   ],
   "source": [
    "df.columns"
   ]
  },
  {
   "cell_type": "code",
   "execution_count": 79,
   "metadata": {},
   "outputs": [
    {
     "data": {
      "text/plain": [
       "array(['WHITE ZONE', nan, 'DISPLAY OF TABS', 'RED ZONE', 'METER EXP.'],\n",
       "      dtype=object)"
      ]
     },
     "execution_count": 79,
     "metadata": {},
     "output_type": "execute_result"
    }
   ],
   "source": [
    "df['Violation Description'].unique()[:5]"
   ]
  },
  {
   "cell_type": "code",
   "execution_count": 80,
   "metadata": {},
   "outputs": [
    {
     "data": {
      "text/plain": [
       "array([1343, 1030,  808,  904, 1656])"
      ]
     },
     "execution_count": 80,
     "metadata": {},
     "output_type": "execute_result"
    }
   ],
   "source": [
    "df['Issue time'].unique()[:5] "
   ]
  },
  {
   "cell_type": "code",
   "execution_count": 81,
   "metadata": {},
   "outputs": [
    {
     "data": {
      "text/plain": [
       "[0, 1, 2, 3, 4]"
      ]
     },
     "execution_count": 81,
     "metadata": {},
     "output_type": "execute_result"
    }
   ],
   "source": [
    "sorted(df['Issue Hour'].unique())[:5]"
   ]
  },
  {
   "cell_type": "code",
   "execution_count": 82,
   "metadata": {},
   "outputs": [
    {
     "data": {
      "text/plain": [
       "array(['PASSENGER CAR', 'TRAILER', nan, 'TRUCK', 'PICK-UP TRUCK',\n",
       "       'COMMERCIAL', 'VAN', 'MOTOR HOME', 'BUS', 'LIMOUSINE'],\n",
       "      dtype=object)"
      ]
     },
     "execution_count": 82,
     "metadata": {},
     "output_type": "execute_result"
    }
   ],
   "source": [
    "df['Body Style Description'].unique()"
   ]
  },
  {
   "cell_type": "code",
   "execution_count": 83,
   "metadata": {},
   "outputs": [
    {
     "data": {
      "text/plain": [
       "array(['PA', 'TR', 'SU', 'TK', 'PU', 'CM', 'VN', 'MH', 'MS', 'MC', nan,\n",
       "       'BO', 'BU', 'OT', 'RU', 'CP', 'RV', 'TL', 'LM', 'UT', '45', 'CR',\n",
       "       'SE', 'JE', 'VA', 'SV', 'CO', 'CC', 'TC', 'SH', 'TO', '4D', 'HS',\n",
       "       'CA', 'CV', 'SW', '2D', 'SD', 'DS', 'LI', 'SC', 'RB', 'US', 'TT',\n",
       "       '02', 'PK', 'WK', 'WG', 'MO', 'VC', 'DU', 'FB', 'RX', 'VS', 'BX',\n",
       "       'VT', '4H', 'ED', 'YY', 'HC', 'DP', 'BT', 'UP', '4W', 'RI', 'SL',\n",
       "       'NX', 'CB', 'VE', '4C', 'VH', 'WH', 'SR', 'HB', 'WA', 'SB', 'M4',\n",
       "       'NR', 'ST', 'MP', 'I1', '2T', 'F7', 'I5', '2H', 'TA', 'EC', 'MV',\n",
       "       'XO', 'TV', 'RA', 'P3', '01', '62', 'E3', 'VP', '95', 'AU'],\n",
       "      dtype=object)"
      ]
     },
     "execution_count": 83,
     "metadata": {},
     "output_type": "execute_result"
    }
   ],
   "source": [
    "df['Body Style'].unique()"
   ]
  },
  {
   "cell_type": "code",
   "execution_count": 84,
   "metadata": {},
   "outputs": [
    {
     "data": {
      "text/plain": [
       "(2014821, 9)"
      ]
     },
     "execution_count": 84,
     "metadata": {},
     "output_type": "execute_result"
    }
   ],
   "source": [
    "df = df[[ 'RP State Plate', 'Make', 'Body Style', 'Color Description', 'Agency Description', 'Issue Hour', 'Latitude', 'Longitude', 'Violation Description']]\n",
    "df.shape"
   ]
  },
  {
   "cell_type": "code",
   "execution_count": 85,
   "metadata": {},
   "outputs": [],
   "source": [
    "df = df[~df.isna().any(axis=1)]"
   ]
  },
  {
   "cell_type": "code",
   "execution_count": 86,
   "metadata": {},
   "outputs": [
    {
     "name": "stderr",
     "output_type": "stream",
     "text": [
      "/home/tealeave/mambaforge/envs/d2l/lib/python3.9/site-packages/sklearn/cluster/_kmeans.py:1412: FutureWarning: The default value of `n_init` will change from 10 to 'auto' in 1.4. Set the value of `n_init` explicitly to suppress the warning\n",
      "  super()._check_params_vs_input(X, default_n_init=10)\n"
     ]
    }
   ],
   "source": [
    "from sklearn.cluster import KMeans\n",
    "\n",
    "# Assuming your dataframe is named 'data' and has columns 'Latitude' and 'Longitude'\n",
    "coordinates = df[['Latitude', 'Longitude']].values\n",
    "\n",
    "# Create a KMeans clustering model with 100 clusters\n",
    "kmeans = KMeans(n_clusters=100, random_state=0).fit(coordinates)\n",
    "\n",
    "# Add cluster labels to the original dataframe\n",
    "df['Cluster'] = kmeans.labels_"
   ]
  },
  {
   "cell_type": "code",
   "execution_count": 87,
   "metadata": {},
   "outputs": [
    {
     "data": {
      "text/html": [
       "<div>\n",
       "<style scoped>\n",
       "    .dataframe tbody tr th:only-of-type {\n",
       "        vertical-align: middle;\n",
       "    }\n",
       "\n",
       "    .dataframe tbody tr th {\n",
       "        vertical-align: top;\n",
       "    }\n",
       "\n",
       "    .dataframe thead th {\n",
       "        text-align: right;\n",
       "    }\n",
       "</style>\n",
       "<table border=\"1\" class=\"dataframe\">\n",
       "  <thead>\n",
       "    <tr style=\"text-align: right;\">\n",
       "      <th></th>\n",
       "      <th>RP State Plate</th>\n",
       "      <th>Make</th>\n",
       "      <th>Body Style</th>\n",
       "      <th>Color Description</th>\n",
       "      <th>Agency Description</th>\n",
       "      <th>Issue Hour</th>\n",
       "      <th>Latitude</th>\n",
       "      <th>Longitude</th>\n",
       "      <th>Violation Description</th>\n",
       "      <th>Cluster</th>\n",
       "    </tr>\n",
       "  </thead>\n",
       "  <tbody>\n",
       "    <tr>\n",
       "      <th>0</th>\n",
       "      <td>CA</td>\n",
       "      <td>MAZD</td>\n",
       "      <td>PA</td>\n",
       "      <td>GREY</td>\n",
       "      <td>54 - DOT - HOLLYWOOD</td>\n",
       "      <td>13</td>\n",
       "      <td>-118.340055</td>\n",
       "      <td>34.100336</td>\n",
       "      <td>WHITE ZONE</td>\n",
       "      <td>8</td>\n",
       "    </tr>\n",
       "    <tr>\n",
       "      <th>3</th>\n",
       "      <td>CA</td>\n",
       "      <td>OTHR</td>\n",
       "      <td>PA</td>\n",
       "      <td>TAN</td>\n",
       "      <td>51 - DOT - WESTERN</td>\n",
       "      <td>9</td>\n",
       "      <td>-118.352770</td>\n",
       "      <td>34.048013</td>\n",
       "      <td>DISPLAY OF TABS</td>\n",
       "      <td>6</td>\n",
       "    </tr>\n",
       "    <tr>\n",
       "      <th>4</th>\n",
       "      <td>CA</td>\n",
       "      <td>HOND</td>\n",
       "      <td>PA</td>\n",
       "      <td>GREY</td>\n",
       "      <td>54 - DOT - HOLLYWOOD</td>\n",
       "      <td>16</td>\n",
       "      <td>-118.292919</td>\n",
       "      <td>34.065156</td>\n",
       "      <td>RED ZONE</td>\n",
       "      <td>89</td>\n",
       "    </tr>\n",
       "    <tr>\n",
       "      <th>5</th>\n",
       "      <td>CA</td>\n",
       "      <td>TOYT</td>\n",
       "      <td>PA</td>\n",
       "      <td>BLACK</td>\n",
       "      <td>53 - DOT - VALLEY</td>\n",
       "      <td>14</td>\n",
       "      <td>-118.374401</td>\n",
       "      <td>34.168097</td>\n",
       "      <td>METER EXP.</td>\n",
       "      <td>84</td>\n",
       "    </tr>\n",
       "    <tr>\n",
       "      <th>7</th>\n",
       "      <td>TX</td>\n",
       "      <td>DODG</td>\n",
       "      <td>PA</td>\n",
       "      <td>BLACK</td>\n",
       "      <td>56 - DOT - CENTRAL</td>\n",
       "      <td>16</td>\n",
       "      <td>-118.249925</td>\n",
       "      <td>34.045272</td>\n",
       "      <td>METER EXP.</td>\n",
       "      <td>83</td>\n",
       "    </tr>\n",
       "    <tr>\n",
       "      <th>...</th>\n",
       "      <td>...</td>\n",
       "      <td>...</td>\n",
       "      <td>...</td>\n",
       "      <td>...</td>\n",
       "      <td>...</td>\n",
       "      <td>...</td>\n",
       "      <td>...</td>\n",
       "      <td>...</td>\n",
       "      <td>...</td>\n",
       "      <td>...</td>\n",
       "    </tr>\n",
       "    <tr>\n",
       "      <th>2014816</th>\n",
       "      <td>CA</td>\n",
       "      <td>VOLK</td>\n",
       "      <td>PA</td>\n",
       "      <td>BLACK</td>\n",
       "      <td>51 - DOT - WESTERN</td>\n",
       "      <td>16</td>\n",
       "      <td>-118.467913</td>\n",
       "      <td>33.991691</td>\n",
       "      <td>METER EXP.</td>\n",
       "      <td>76</td>\n",
       "    </tr>\n",
       "    <tr>\n",
       "      <th>2014817</th>\n",
       "      <td>CA</td>\n",
       "      <td>MERZ</td>\n",
       "      <td>PA</td>\n",
       "      <td>WHITE</td>\n",
       "      <td>54 - DOT - HOLLYWOOD</td>\n",
       "      <td>17</td>\n",
       "      <td>-118.346190</td>\n",
       "      <td>34.097976</td>\n",
       "      <td>NO STOPPING/ANTI-GRIDLOCK ZONE</td>\n",
       "      <td>8</td>\n",
       "    </tr>\n",
       "    <tr>\n",
       "      <th>2014818</th>\n",
       "      <td>CA</td>\n",
       "      <td>HOND</td>\n",
       "      <td>PA</td>\n",
       "      <td>BLACK</td>\n",
       "      <td>53 - DOT - VALLEY</td>\n",
       "      <td>16</td>\n",
       "      <td>-118.288133</td>\n",
       "      <td>33.738757</td>\n",
       "      <td>STOP/STAND PROHIBIT</td>\n",
       "      <td>4</td>\n",
       "    </tr>\n",
       "    <tr>\n",
       "      <th>2014819</th>\n",
       "      <td>CA</td>\n",
       "      <td>TOYT</td>\n",
       "      <td>PA</td>\n",
       "      <td>BLACK</td>\n",
       "      <td>51 - DOT - WESTERN</td>\n",
       "      <td>16</td>\n",
       "      <td>-118.349414</td>\n",
       "      <td>34.062276</td>\n",
       "      <td>METER EXP.</td>\n",
       "      <td>33</td>\n",
       "    </tr>\n",
       "    <tr>\n",
       "      <th>2014820</th>\n",
       "      <td>CA</td>\n",
       "      <td>FORD</td>\n",
       "      <td>PA</td>\n",
       "      <td>WHITE</td>\n",
       "      <td>55 - DOT - SOUTHERN</td>\n",
       "      <td>16</td>\n",
       "      <td>-118.289994</td>\n",
       "      <td>34.007356</td>\n",
       "      <td>RED ZONE</td>\n",
       "      <td>69</td>\n",
       "    </tr>\n",
       "  </tbody>\n",
       "</table>\n",
       "<p>1834261 rows × 10 columns</p>\n",
       "</div>"
      ],
      "text/plain": [
       "        RP State Plate  Make Body Style Color Description  \\\n",
       "0                   CA  MAZD         PA              GREY   \n",
       "3                   CA  OTHR         PA               TAN   \n",
       "4                   CA  HOND         PA              GREY   \n",
       "5                   CA  TOYT         PA             BLACK   \n",
       "7                   TX  DODG         PA             BLACK   \n",
       "...                ...   ...        ...               ...   \n",
       "2014816             CA  VOLK         PA             BLACK   \n",
       "2014817             CA  MERZ         PA             WHITE   \n",
       "2014818             CA  HOND         PA             BLACK   \n",
       "2014819             CA  TOYT         PA             BLACK   \n",
       "2014820             CA  FORD         PA             WHITE   \n",
       "\n",
       "           Agency Description  Issue Hour    Latitude  Longitude  \\\n",
       "0        54 - DOT - HOLLYWOOD          13 -118.340055  34.100336   \n",
       "3          51 - DOT - WESTERN           9 -118.352770  34.048013   \n",
       "4        54 - DOT - HOLLYWOOD          16 -118.292919  34.065156   \n",
       "5           53 - DOT - VALLEY          14 -118.374401  34.168097   \n",
       "7          56 - DOT - CENTRAL          16 -118.249925  34.045272   \n",
       "...                       ...         ...         ...        ...   \n",
       "2014816    51 - DOT - WESTERN          16 -118.467913  33.991691   \n",
       "2014817  54 - DOT - HOLLYWOOD          17 -118.346190  34.097976   \n",
       "2014818     53 - DOT - VALLEY          16 -118.288133  33.738757   \n",
       "2014819    51 - DOT - WESTERN          16 -118.349414  34.062276   \n",
       "2014820   55 - DOT - SOUTHERN          16 -118.289994  34.007356   \n",
       "\n",
       "                  Violation Description  Cluster  \n",
       "0                            WHITE ZONE        8  \n",
       "3                       DISPLAY OF TABS        6  \n",
       "4                              RED ZONE       89  \n",
       "5                            METER EXP.       84  \n",
       "7                            METER EXP.       83  \n",
       "...                                 ...      ...  \n",
       "2014816                      METER EXP.       76  \n",
       "2014817  NO STOPPING/ANTI-GRIDLOCK ZONE        8  \n",
       "2014818             STOP/STAND PROHIBIT        4  \n",
       "2014819                      METER EXP.       33  \n",
       "2014820                        RED ZONE       69  \n",
       "\n",
       "[1834261 rows x 10 columns]"
      ]
     },
     "execution_count": 87,
     "metadata": {},
     "output_type": "execute_result"
    }
   ],
   "source": [
    "df"
   ]
  },
  {
   "cell_type": "code",
   "execution_count": 88,
   "metadata": {},
   "outputs": [],
   "source": [
    "df.to_csv('../cleaned_2022_parking_citation2.csv', index=False)\n"
   ]
  },
  {
   "cell_type": "code",
   "execution_count": null,
   "metadata": {},
   "outputs": [],
   "source": []
  },
  {
   "cell_type": "code",
   "execution_count": null,
   "metadata": {},
   "outputs": [],
   "source": []
  },
  {
   "cell_type": "code",
   "execution_count": null,
   "metadata": {},
   "outputs": [],
   "source": []
  },
  {
   "cell_type": "code",
   "execution_count": null,
   "metadata": {},
   "outputs": [],
   "source": []
  },
  {
   "cell_type": "code",
   "execution_count": null,
   "metadata": {},
   "outputs": [],
   "source": []
  },
  {
   "cell_type": "code",
   "execution_count": null,
   "metadata": {},
   "outputs": [],
   "source": []
  },
  {
   "cell_type": "code",
   "execution_count": null,
   "metadata": {},
   "outputs": [],
   "source": []
  },
  {
   "cell_type": "code",
   "execution_count": null,
   "metadata": {},
   "outputs": [],
   "source": []
  },
  {
   "cell_type": "code",
   "execution_count": null,
   "metadata": {},
   "outputs": [],
   "source": []
  },
  {
   "cell_type": "code",
   "execution_count": 90,
   "metadata": {},
   "outputs": [
    {
     "name": "stdout",
     "output_type": "stream",
     "text": [
      "True\n",
      "cuda:0\n"
     ]
    },
    {
     "name": "stderr",
     "output_type": "stream",
     "text": [
      "/home/tealeave/mambaforge/envs/d2l/lib/python3.9/site-packages/sklearn/preprocessing/_encoders.py:972: FutureWarning: `sparse` was renamed to `sparse_output` in version 1.2 and will be removed in 1.4. `sparse_output` is ignored unless you leave `sparse` to its default value.\n",
      "  warnings.warn(\n"
     ]
    },
    {
     "name": "stdout",
     "output_type": "stream",
     "text": [
      "Epoch 1/10, Loss: 1.9293214082717896\n",
      "Training Accuracy: 0.41698695931874435\n",
      "Epoch 2/10, Loss: 1.6889859437942505\n",
      "Training Accuracy: 0.42009175362271434\n",
      "Epoch 3/10, Loss: 2.048356294631958\n",
      "Training Accuracy: 0.42744758104085573\n",
      "Epoch 4/10, Loss: 1.808008074760437\n",
      "Training Accuracy: 0.4295431127539171\n",
      "Epoch 5/10, Loss: 1.8518352508544922\n",
      "Training Accuracy: 0.42972574771297417\n",
      "Epoch 6/10, Loss: 1.8611969947814941\n",
      "Training Accuracy: 0.43094013389595803\n",
      "Epoch 7/10, Loss: 1.907226800918579\n",
      "Training Accuracy: 0.43274058748487126\n",
      "Epoch 8/10, Loss: 2.0424554347991943\n",
      "Training Accuracy: 0.43207001733669165\n",
      "Epoch 9/10, Loss: 1.5820761919021606\n",
      "Training Accuracy: 0.43386570060951013\n",
      "Epoch 10/10, Loss: 1.8171765804290771\n",
      "Training Accuracy: 0.43538402407510385\n",
      "Total execution time: 165.24951720237732 seconds\n"
     ]
    }
   ],
   "source": [
    "import pandas as pd\n",
    "import torch\n",
    "import torch.nn as nn\n",
    "import torch.optim as optim\n",
    "from torch.utils.data import DataLoader, TensorDataset\n",
    "from sklearn.model_selection import train_test_split\n",
    "from sklearn.preprocessing import StandardScaler, LabelEncoder\n",
    "from sklearn.preprocessing import OneHotEncoder\n",
    "import time\n",
    "\n",
    "start_time = time.time()\n",
    "\n",
    "# Check cuda\n",
    "print(torch.cuda.is_available())\n",
    "device = torch.device(\"cuda:0\" if torch.cuda.is_available() else \"cpu\")\n",
    "\n",
    "# Assuming that we are on a CUDA machine, this should print a CUDA device:\n",
    "print(device)\n",
    "\n",
    "\n",
    "# 1. Data Preparation\n",
    "# ---------------------\n",
    "data = pd.read_csv(\"../cleaned_2022_parking_citation2.csv\")\n",
    "features = [ 'RP State Plate', 'Make', 'Body Style', 'Color Description', 'Agency Description', 'Issue Hour', 'Cluster']\n",
    "X = data[features]\n",
    "\n",
    "label_encoders = {}\n",
    "for col in ['RP State Plate', 'Make', 'Body Style', 'Color Description', 'Agency Description', 'Cluster']:\n",
    "    le = LabelEncoder()\n",
    "    X[col] = le.fit_transform(X[col])\n",
    "    label_encoders[col] = le\n",
    "\n",
    "# One-hot encode 'Issue Hour'\n",
    "ohe = OneHotEncoder(sparse=False, dtype=int)\n",
    "issue_hour_encoded = ohe.fit_transform(X[['Issue Hour']])\n",
    "issue_hour_df = pd.DataFrame(issue_hour_encoded, columns=[f\"IssueHour_{int(i)}\" for i in range(issue_hour_encoded.shape[1])])\n",
    "\n",
    "# Reset the index of X before concatenation\n",
    "X.reset_index(drop=True, inplace=True)\n",
    "\n",
    "# Replace the original 'Issue Hour' column with the one-hot encoded data\n",
    "X = pd.concat([X.drop(columns='Issue Hour'), issue_hour_df], axis=1)\n",
    "\n",
    "\n",
    "y = LabelEncoder().fit_transform(data['Violation Description'])\n",
    "\n",
    "X_train, X_test, y_train, y_test = train_test_split(X, y, test_size=0.2, random_state=42)\n",
    "\n",
    "X_train_tensor = torch.tensor(X_train.values, dtype=torch.float32).to(device)\n",
    "y_train_tensor = torch.tensor(y_train, dtype=torch.long).to(device)\n",
    "batch_size = 256\n",
    "train_dataset = TensorDataset(X_train_tensor, y_train_tensor)\n",
    "train_loader = DataLoader(train_dataset, batch_size=batch_size, shuffle=True)\n",
    "\n",
    "# 2. Model Definition\n",
    "# ---------------------\n",
    "class SimpleNN(nn.Module):\n",
    "    def __init__(self, input_dim, output_dim):\n",
    "        super(SimpleNN, self).__init__()\n",
    "        self.layer1 = nn.Linear(input_dim, 128)\n",
    "        self.layer2 = nn.Linear(128, 64)\n",
    "        self.layer3 = nn.Linear(64, output_dim)\n",
    "\n",
    "    def forward(self, x):\n",
    "        x = torch.relu(self.layer1(x))\n",
    "        x = torch.relu(self.layer2(x))\n",
    "        x = self.layer3(x)\n",
    "        return x\n",
    "\n",
    "model = SimpleNN(X_train.shape[1], len(set(y_train))).to(device)\n",
    "criterion = nn.CrossEntropyLoss()\n",
    "optimizer = optim.Adam(model.parameters(), lr=0.002)\n",
    "\n",
    "# 3. Training\n",
    "# ------------\n",
    "epochs = 10\n",
    "for epoch in range(epochs):\n",
    "    for batch_idx, (data, target) in enumerate(train_loader):\n",
    "        optimizer.zero_grad()\n",
    "        outputs = model(data)\n",
    "        loss = criterion(outputs, target)\n",
    "        loss.backward()\n",
    "        optimizer.step()\n",
    "    print(f\"Epoch {epoch+1}/{epochs}, Loss: {loss.item()}\")\n",
    "\n",
    "    # 4. Evaluation\n",
    "    # ---------------\n",
    "    with torch.no_grad():\n",
    "        y_pred = model(X_train_tensor)\n",
    "        _, predicted = torch.max(y_pred, 1)\n",
    "        accuracy = (predicted == y_train_tensor).sum().item() / len(y_train_tensor)\n",
    "        print(f\"Training Accuracy: {accuracy}\")\n",
    "\n",
    "end_time = time.time()\n",
    "elapsed_time = end_time - start_time\n",
    "print(f\"Total execution time: {elapsed_time} seconds\")"
   ]
  },
  {
   "cell_type": "code",
   "execution_count": null,
   "metadata": {},
   "outputs": [],
   "source": []
  },
  {
   "cell_type": "code",
   "execution_count": null,
   "metadata": {},
   "outputs": [],
   "source": []
  },
  {
   "cell_type": "code",
   "execution_count": null,
   "metadata": {},
   "outputs": [],
   "source": []
  },
  {
   "cell_type": "code",
   "execution_count": null,
   "metadata": {},
   "outputs": [],
   "source": []
  },
  {
   "cell_type": "code",
   "execution_count": null,
   "metadata": {},
   "outputs": [],
   "source": []
  },
  {
   "cell_type": "code",
   "execution_count": null,
   "metadata": {},
   "outputs": [],
   "source": []
  },
  {
   "cell_type": "code",
   "execution_count": null,
   "metadata": {},
   "outputs": [],
   "source": []
  },
  {
   "cell_type": "code",
   "execution_count": null,
   "metadata": {},
   "outputs": [],
   "source": []
  },
  {
   "cell_type": "code",
   "execution_count": null,
   "metadata": {},
   "outputs": [],
   "source": []
  },
  {
   "cell_type": "code",
   "execution_count": null,
   "metadata": {},
   "outputs": [],
   "source": []
  },
  {
   "cell_type": "code",
   "execution_count": 50,
   "metadata": {
    "_uuid": "f26483133cdd92e7b8e9c0a10475b9ecffde5321"
   },
   "outputs": [],
   "source": [
    "# import xgboost as xgb\n",
    "# from sklearn.model_selection import train_test_split\n",
    "# from sklearn.preprocessing import StandardScaler, LabelEncoder\n",
    "# import pandas as pd\n",
    "\n",
    "# # Load your data\n",
    "# data = pd.read_csv(\"cleaned_2022_parking_citation.csv\")\n",
    "\n",
    "# # Preprocess the data (similar to what we did above)\n",
    "# data = data.dropna(subset=['Violation Description'])\n",
    "# features = ['RP State Plate', 'Make', 'Body Style', 'Color Description', 'Agency Description', 'Issue Hour']\n",
    "# X = data[features]\n",
    "# X = X.fillna('Unknown')\n",
    "\n",
    "# label_encoders = {}\n",
    "# for col in X.select_dtypes(include=['object']).columns:\n",
    "#     le = LabelEncoder()\n",
    "#     X[col] = le.fit_transform(X[col])\n",
    "#     label_encoders[col] = le\n",
    "\n",
    "# scaler = StandardScaler()\n",
    "# X[['Issue time', 'Issue Hour']] = scaler.fit_transform(X[['Issue time', 'Issue Hour']])\n",
    "# y = LabelEncoder().fit_transform(data['Violation Description'])\n",
    "\n",
    "# # Split the data\n",
    "# X_train, X_test, y_train, y_test = train_test_split(X, y, test_size=0.2, random_state=42)\n",
    "\n",
    "# # Initialize and train the XGBoost classifier\n",
    "# clf = xgb.XGBClassifier(objective='multi:softmax', num_class=len(set(y_train)), random_state=42, use_label_encoder=False)\n",
    "# clf.fit(X_train, y_train, eval_metric='mlogloss')\n",
    "\n",
    "# # Get training accuracy (you can also get testing accuracy if you wish)\n",
    "# train_accuracy = clf.score(X_train, y_train)\n",
    "# print(f\"Training Accuracy: {train_accuracy}\")"
   ]
  },
  {
   "cell_type": "code",
   "execution_count": null,
   "metadata": {},
   "outputs": [],
   "source": []
  }
 ],
 "metadata": {
  "kernelspec": {
   "display_name": "Python 3 (ipykernel)",
   "language": "python",
   "name": "python3"
  },
  "language_info": {
   "codemirror_mode": {
    "name": "ipython",
    "version": 3
   },
   "file_extension": ".py",
   "mimetype": "text/x-python",
   "name": "python",
   "nbconvert_exporter": "python",
   "pygments_lexer": "ipython3",
   "version": "3.9.16"
  }
 },
 "nbformat": 4,
 "nbformat_minor": 1
}

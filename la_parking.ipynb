{
 "cells": [
  {
   "cell_type": "code",
   "execution_count": 10,
   "metadata": {
    "_cell_guid": "b1076dfc-b9ad-4769-8c92-a6c4dae69d19",
    "_kg_hide-input": true,
    "_kg_hide-output": true,
    "_uuid": "8f2839f25d086af736a60e9eeb907d3b93b6e0e5",
    "scrolled": false
   },
   "outputs": [],
   "source": [
    "import pandas as pd\n",
    "from csvvalidator import *\n",
    "import datetime as DT\n",
    "import numpy as np\n",
    "\n",
    "pd.set_option('display.float_format', lambda x: '%.3f' % x)"
   ]
  },
  {
   "cell_type": "code",
   "execution_count": 6,
   "metadata": {
    "_kg_hide-input": true,
    "_kg_hide-output": true,
    "_uuid": "09f619e978197081a290acf626007b655d5ee171"
   },
   "outputs": [],
   "source": [
    "#Validate data\n",
    "field_names = (\n",
    "               'Ticket number',\n",
    "               'Issue Date',\n",
    "               'Latitude',\n",
    "               'Longitude',\n",
    "               'Issue time',\n",
    "               'Violation Description'\n",
    "               )\n",
    "validator = CSVValidator(field_names)\n",
    "# basic header and record length checks\n",
    "validator.add_header_check('EX1', 'bad header')\n",
    "validator.add_record_length_check('EX2', 'unexpected record length')"
   ]
  },
  {
   "cell_type": "code",
   "execution_count": 7,
   "metadata": {},
   "outputs": [
    {
     "name": "stderr",
     "output_type": "stream",
     "text": [
      "/tmp/ddlin/23123572/ipykernel_3886266/3233484126.py:1: DtypeWarning: Columns (0) have mixed types. Specify dtype option on import or set low_memory=False.\n",
      "  df = pd.read_csv('../parking_citation_2020_2022.csv')\n"
     ]
    }
   ],
   "source": [
    "df = pd.read_csv('../parking_citation_2020_2022.csv')"
   ]
  },
  {
   "cell_type": "code",
   "execution_count": 8,
   "metadata": {
    "_kg_hide-input": true,
    "_kg_hide-output": false,
    "_uuid": "ede4493e4dc3099a4c74b487e757fe29e7845c7b"
   },
   "outputs": [],
   "source": [
    "#updating formatting so that I can translate issue date to datetime\n",
    "df['Issue Date'] = df[df['Issue Date'].notnull()]['Issue Date'].apply(lambda x: x.split('T')[0])\n",
    "df['Issue Date'] = pd.to_datetime(df['Issue Date'], infer_datetime_format=True)"
   ]
  },
  {
   "cell_type": "code",
   "execution_count": 11,
   "metadata": {
    "_kg_hide-input": true,
    "_kg_hide-output": true,
    "_uuid": "e81ae7fa7a879cb3b6d5fe17fc9a3461e482117b"
   },
   "outputs": [],
   "source": [
    "#pad anything that is less than 4 digits then isolate just the hours\n",
    "df['Issue time'] = df['Issue time'].astype(str)\n",
    "df['Issue time'] = df['Issue time'].apply(lambda x: x.split('.')[0])\n",
    "df['Issue time'] = df[df['Issue time'].notnull()]['Issue time'].apply(lambda x: x.zfill(4))\n",
    "df['Issue Hour'] = df[df['Issue time']!='0nan']['Issue time'].apply(lambda x: DT.datetime.strptime(x,'%H%M').hour)\n",
    "\n",
    "#clean lat lon\n",
    "df['Latitude'] = np.where(df['Latitude']==99999.000, np.nan, df['Latitude'])\n",
    "df['Longitude'] = np.where(df['Longitude']==99999.000, np.nan, df['Longitude'])\n",
    "\n",
    "#string for ticketnum\n",
    "df['Ticket number'] = df['Ticket number'].astype(str)"
   ]
  },
  {
   "cell_type": "code",
   "execution_count": 12,
   "metadata": {
    "_kg_hide-input": true,
    "_kg_hide-output": true,
    "_uuid": "48549d3f8fa12346edc866ec252b8dd414667708"
   },
   "outputs": [
    {
     "name": "stderr",
     "output_type": "stream",
     "text": [
      "/data/homezvol2/ddlin/mambaforge-pypy3/envs/plotly/lib/python3.8/site-packages/pyproj/crs/crs.py:141: FutureWarning: '+init=<authority>:<code>' syntax is deprecated. '<authority>:<code>' is the preferred initialization method. When making the change, be mindful of axis order changes: https://pyproj4.github.io/pyproj/stable/gotchas.html#axis-order-changes-in-proj-6\n",
      "  in_crs_string = _prepare_from_proj_string(in_crs_string)\n",
      "/tmp/ddlin/23123572/ipykernel_3886266/1413484023.py:5: FutureWarning: This function is deprecated. See: https://pyproj4.github.io/pyproj/stable/gotchas.html#upgrading-to-pyproj-2-from-pyproj-1\n",
      "  x2m,y2m = pyproj.transform(pyproj.Proj(pm,preserve_units = True), pyproj.Proj(\"+init=epsg:4326\"), x1m,y1m)\n"
     ]
    }
   ],
   "source": [
    "#Updating the Lat Lon\n",
    "import pyproj\n",
    "pm = '+proj=lcc +lat_1=34.03333333333333 +lat_2=35.46666666666667 +lat_0=33.5 +lon_0=-118 +x_0=2000000 +y_0=500000.0000000002 +ellps=GRS80 +datum=NAD83 +to_meter=0.3048006096012192 +no_defs'\n",
    "x1m,y1m = df['Latitude'].values, df['Longitude'].values\n",
    "x2m,y2m = pyproj.transform(pyproj.Proj(pm,preserve_units = True), pyproj.Proj(\"+init=epsg:4326\"), x1m,y1m)\n",
    "df['Latitude']=x2m\n",
    "df['Longitude']=y2m"
   ]
  },
  {
   "cell_type": "code",
   "execution_count": null,
   "metadata": {},
   "outputs": [],
   "source": [
    "# df = pd.read_csv(\"../cleaned_2022_parking_citation.csv\")"
   ]
  },
  {
   "cell_type": "code",
   "execution_count": 13,
   "metadata": {},
   "outputs": [
    {
     "data": {
      "text/plain": [
       "Index(['Ticket number', 'Issue Date', 'Issue time', 'Meter Id', 'Marked Time',\n",
       "       'RP State Plate', 'Plate Expiry Date', 'VIN', 'Make', 'Body Style',\n",
       "       'Color', 'Location', 'Route', 'Agency', 'Violation code',\n",
       "       'Violation Description', 'Fine amount', 'Latitude', 'Longitude',\n",
       "       'Agency Description', 'Color Description', 'Body Style Description',\n",
       "       'Issue Hour'],\n",
       "      dtype='object')"
      ]
     },
     "execution_count": 13,
     "metadata": {},
     "output_type": "execute_result"
    }
   ],
   "source": [
    "df.columns"
   ]
  },
  {
   "cell_type": "code",
   "execution_count": 14,
   "metadata": {},
   "outputs": [
    {
     "data": {
      "text/plain": [
       "(PASSENGER CAR    4806029\n",
       " PICK-UP TRUCK     165537\n",
       " VAN                91295\n",
       " COMMERCIAL         76050\n",
       " TRUCK              67966\n",
       " TRAILER            38114\n",
       " MOTOR HOME         20603\n",
       " BUS                 1680\n",
       " LIMOUSINE            239\n",
       " Name: Body Style Description, dtype: int64,\n",
       " PA    4806029\n",
       " PU     165537\n",
       " VN      91295\n",
       " TK      67966\n",
       " CM      64129\n",
       "        ...   \n",
       " RB          1\n",
       " 02          1\n",
       " FB          1\n",
       " RX          1\n",
       " AU          1\n",
       " Name: Body Style, Length: 133, dtype: int64)"
      ]
     },
     "execution_count": 14,
     "metadata": {},
     "output_type": "execute_result"
    }
   ],
   "source": [
    "df['Body Style Description'].value_counts(), df['Body Style'].value_counts()"
   ]
  },
  {
   "cell_type": "code",
   "execution_count": 15,
   "metadata": {},
   "outputs": [
    {
     "data": {
      "text/plain": [
       "(5308775, 23)"
      ]
     },
     "execution_count": 15,
     "metadata": {},
     "output_type": "execute_result"
    }
   ],
   "source": [
    "df.shape"
   ]
  },
  {
   "cell_type": "code",
   "execution_count": 16,
   "metadata": {},
   "outputs": [
    {
     "data": {
      "text/html": [
       "<div>\n",
       "<style scoped>\n",
       "    .dataframe tbody tr th:only-of-type {\n",
       "        vertical-align: middle;\n",
       "    }\n",
       "\n",
       "    .dataframe tbody tr th {\n",
       "        vertical-align: top;\n",
       "    }\n",
       "\n",
       "    .dataframe thead th {\n",
       "        text-align: right;\n",
       "    }\n",
       "</style>\n",
       "<table border=\"1\" class=\"dataframe\">\n",
       "  <thead>\n",
       "    <tr style=\"text-align: right;\">\n",
       "      <th></th>\n",
       "      <th>RP State Plate</th>\n",
       "      <th>Make</th>\n",
       "      <th>Body Style</th>\n",
       "      <th>Color Description</th>\n",
       "      <th>Agency Description</th>\n",
       "      <th>Issue Hour</th>\n",
       "      <th>Latitude</th>\n",
       "      <th>Longitude</th>\n",
       "      <th>Violation Description</th>\n",
       "    </tr>\n",
       "  </thead>\n",
       "  <tbody>\n",
       "    <tr>\n",
       "      <th>0</th>\n",
       "      <td>CA</td>\n",
       "      <td>MAZD</td>\n",
       "      <td>PA</td>\n",
       "      <td>GREY</td>\n",
       "      <td>54 - DOT - HOLLYWOOD</td>\n",
       "      <td>13.000</td>\n",
       "      <td>-118.340</td>\n",
       "      <td>34.100</td>\n",
       "      <td>WHITE ZONE</td>\n",
       "    </tr>\n",
       "    <tr>\n",
       "      <th>1</th>\n",
       "      <td>CA</td>\n",
       "      <td>LEXS</td>\n",
       "      <td>PA</td>\n",
       "      <td>BLACK</td>\n",
       "      <td>51 - DOT - WESTERN</td>\n",
       "      <td>16.000</td>\n",
       "      <td>-118.471</td>\n",
       "      <td>33.984</td>\n",
       "      <td>NaN</td>\n",
       "    </tr>\n",
       "    <tr>\n",
       "      <th>2</th>\n",
       "      <td>CA</td>\n",
       "      <td>MERZ</td>\n",
       "      <td>PA</td>\n",
       "      <td>BLACK</td>\n",
       "      <td>51 - DOT - WESTERN</td>\n",
       "      <td>16.000</td>\n",
       "      <td>-118.354</td>\n",
       "      <td>34.062</td>\n",
       "      <td>NaN</td>\n",
       "    </tr>\n",
       "    <tr>\n",
       "      <th>3</th>\n",
       "      <td>CA</td>\n",
       "      <td>PORS</td>\n",
       "      <td>PA</td>\n",
       "      <td>BLACK</td>\n",
       "      <td>55 - DOT - SOUTHERN</td>\n",
       "      <td>2.000</td>\n",
       "      <td>-118.335</td>\n",
       "      <td>34.033</td>\n",
       "      <td>STANDNG IN ALLEY</td>\n",
       "    </tr>\n",
       "    <tr>\n",
       "      <th>4</th>\n",
       "      <td>CA</td>\n",
       "      <td>RROV</td>\n",
       "      <td>PA</td>\n",
       "      <td>GREY</td>\n",
       "      <td>51 - DOT - WESTERN</td>\n",
       "      <td>1.000</td>\n",
       "      <td>-118.396</td>\n",
       "      <td>34.027</td>\n",
       "      <td>PARKED ON SIDEWALK</td>\n",
       "    </tr>\n",
       "  </tbody>\n",
       "</table>\n",
       "</div>"
      ],
      "text/plain": [
       "  RP State Plate  Make Body Style Color Description    Agency Description  \\\n",
       "0             CA  MAZD         PA              GREY  54 - DOT - HOLLYWOOD   \n",
       "1             CA  LEXS         PA             BLACK    51 - DOT - WESTERN   \n",
       "2             CA  MERZ         PA             BLACK    51 - DOT - WESTERN   \n",
       "3             CA  PORS         PA             BLACK   55 - DOT - SOUTHERN   \n",
       "4             CA  RROV         PA              GREY    51 - DOT - WESTERN   \n",
       "\n",
       "   Issue Hour  Latitude  Longitude Violation Description  \n",
       "0      13.000  -118.340     34.100            WHITE ZONE  \n",
       "1      16.000  -118.471     33.984                   NaN  \n",
       "2      16.000  -118.354     34.062                   NaN  \n",
       "3       2.000  -118.335     34.033      STANDNG IN ALLEY  \n",
       "4       1.000  -118.396     34.027    PARKED ON SIDEWALK  "
      ]
     },
     "execution_count": 16,
     "metadata": {},
     "output_type": "execute_result"
    }
   ],
   "source": [
    "data_df = df[[ 'RP State Plate', 'Make', 'Body Style', 'Color Description', 'Agency Description', 'Issue Hour', 'Latitude', 'Longitude', 'Violation Description']]\n",
    "data_df.head()"
   ]
  },
  {
   "cell_type": "code",
   "execution_count": 17,
   "metadata": {},
   "outputs": [
    {
     "data": {
      "text/plain": [
       "(4570474, 9)"
      ]
     },
     "execution_count": 17,
     "metadata": {},
     "output_type": "execute_result"
    }
   ],
   "source": [
    "data_df = data_df[~data_df.isna().any(axis=1)]\n",
    "data_df.shape"
   ]
  },
  {
   "cell_type": "code",
   "execution_count": 18,
   "metadata": {},
   "outputs": [
    {
     "name": "stderr",
     "output_type": "stream",
     "text": [
      "/data/homezvol2/ddlin/mambaforge-pypy3/envs/plotly/lib/python3.8/site-packages/sklearn/cluster/_kmeans.py:870: FutureWarning: The default value of `n_init` will change from 10 to 'auto' in 1.4. Set the value of `n_init` explicitly to suppress the warning\n",
      "  warnings.warn(\n"
     ]
    },
    {
     "ename": "KeyboardInterrupt",
     "evalue": "",
     "output_type": "error",
     "traceback": [
      "\u001b[0;31m---------------------------------------------------------------------------\u001b[0m",
      "\u001b[0;31mKeyboardInterrupt\u001b[0m                         Traceback (most recent call last)",
      "Cell \u001b[0;32mIn[18], line 7\u001b[0m\n\u001b[1;32m      4\u001b[0m coordinates \u001b[39m=\u001b[39m data_df[[\u001b[39m'\u001b[39m\u001b[39mLatitude\u001b[39m\u001b[39m'\u001b[39m, \u001b[39m'\u001b[39m\u001b[39mLongitude\u001b[39m\u001b[39m'\u001b[39m]]\u001b[39m.\u001b[39mvalues\n\u001b[1;32m      6\u001b[0m \u001b[39m# Create a KMeans clustering model with 100 clusters\u001b[39;00m\n\u001b[0;32m----> 7\u001b[0m kmeans \u001b[39m=\u001b[39m KMeans(n_clusters\u001b[39m=\u001b[39;49m\u001b[39m500\u001b[39;49m, random_state\u001b[39m=\u001b[39;49m\u001b[39m0\u001b[39;49m)\u001b[39m.\u001b[39;49mfit(coordinates)\n\u001b[1;32m      9\u001b[0m \u001b[39m# Add cluster labels to the original dataframe\u001b[39;00m\n\u001b[1;32m     10\u001b[0m data_df[\u001b[39m'\u001b[39m\u001b[39mCluster\u001b[39m\u001b[39m'\u001b[39m] \u001b[39m=\u001b[39m kmeans\u001b[39m.\u001b[39mlabels_\n",
      "File \u001b[0;32m~/mambaforge-pypy3/envs/plotly/lib/python3.8/site-packages/sklearn/cluster/_kmeans.py:1461\u001b[0m, in \u001b[0;36mKMeans.fit\u001b[0;34m(self, X, y, sample_weight)\u001b[0m\n\u001b[1;32m   1457\u001b[0m best_inertia, best_labels \u001b[39m=\u001b[39m \u001b[39mNone\u001b[39;00m, \u001b[39mNone\u001b[39;00m\n\u001b[1;32m   1459\u001b[0m \u001b[39mfor\u001b[39;00m i \u001b[39min\u001b[39;00m \u001b[39mrange\u001b[39m(\u001b[39mself\u001b[39m\u001b[39m.\u001b[39m_n_init):\n\u001b[1;32m   1460\u001b[0m     \u001b[39m# Initialize centers\u001b[39;00m\n\u001b[0;32m-> 1461\u001b[0m     centers_init \u001b[39m=\u001b[39m \u001b[39mself\u001b[39;49m\u001b[39m.\u001b[39;49m_init_centroids(\n\u001b[1;32m   1462\u001b[0m         X, x_squared_norms\u001b[39m=\u001b[39;49mx_squared_norms, init\u001b[39m=\u001b[39;49minit, random_state\u001b[39m=\u001b[39;49mrandom_state\n\u001b[1;32m   1463\u001b[0m     )\n\u001b[1;32m   1464\u001b[0m     \u001b[39mif\u001b[39;00m \u001b[39mself\u001b[39m\u001b[39m.\u001b[39mverbose:\n\u001b[1;32m   1465\u001b[0m         \u001b[39mprint\u001b[39m(\u001b[39m\"\u001b[39m\u001b[39mInitialization complete\u001b[39m\u001b[39m\"\u001b[39m)\n",
      "File \u001b[0;32m~/mambaforge-pypy3/envs/plotly/lib/python3.8/site-packages/sklearn/cluster/_kmeans.py:989\u001b[0m, in \u001b[0;36m_BaseKMeans._init_centroids\u001b[0;34m(self, X, x_squared_norms, init, random_state, init_size, n_centroids)\u001b[0m\n\u001b[1;32m    986\u001b[0m     n_samples \u001b[39m=\u001b[39m X\u001b[39m.\u001b[39mshape[\u001b[39m0\u001b[39m]\n\u001b[1;32m    988\u001b[0m \u001b[39mif\u001b[39;00m \u001b[39misinstance\u001b[39m(init, \u001b[39mstr\u001b[39m) \u001b[39mand\u001b[39;00m init \u001b[39m==\u001b[39m \u001b[39m\"\u001b[39m\u001b[39mk-means++\u001b[39m\u001b[39m\"\u001b[39m:\n\u001b[0;32m--> 989\u001b[0m     centers, _ \u001b[39m=\u001b[39m _kmeans_plusplus(\n\u001b[1;32m    990\u001b[0m         X,\n\u001b[1;32m    991\u001b[0m         n_clusters,\n\u001b[1;32m    992\u001b[0m         random_state\u001b[39m=\u001b[39;49mrandom_state,\n\u001b[1;32m    993\u001b[0m         x_squared_norms\u001b[39m=\u001b[39;49mx_squared_norms,\n\u001b[1;32m    994\u001b[0m     )\n\u001b[1;32m    995\u001b[0m \u001b[39melif\u001b[39;00m \u001b[39misinstance\u001b[39m(init, \u001b[39mstr\u001b[39m) \u001b[39mand\u001b[39;00m init \u001b[39m==\u001b[39m \u001b[39m\"\u001b[39m\u001b[39mrandom\u001b[39m\u001b[39m\"\u001b[39m:\n\u001b[1;32m    996\u001b[0m     seeds \u001b[39m=\u001b[39m random_state\u001b[39m.\u001b[39mpermutation(n_samples)[:n_clusters]\n",
      "File \u001b[0;32m~/mambaforge-pypy3/envs/plotly/lib/python3.8/site-packages/sklearn/cluster/_kmeans.py:229\u001b[0m, in \u001b[0;36m_kmeans_plusplus\u001b[0;34m(X, n_clusters, x_squared_norms, random_state, n_local_trials)\u001b[0m\n\u001b[1;32m    225\u001b[0m \u001b[39mfor\u001b[39;00m c \u001b[39min\u001b[39;00m \u001b[39mrange\u001b[39m(\u001b[39m1\u001b[39m, n_clusters):\n\u001b[1;32m    226\u001b[0m     \u001b[39m# Choose center candidates by sampling with probability proportional\u001b[39;00m\n\u001b[1;32m    227\u001b[0m     \u001b[39m# to the squared distance to the closest existing center\u001b[39;00m\n\u001b[1;32m    228\u001b[0m     rand_vals \u001b[39m=\u001b[39m random_state\u001b[39m.\u001b[39muniform(size\u001b[39m=\u001b[39mn_local_trials) \u001b[39m*\u001b[39m current_pot\n\u001b[0;32m--> 229\u001b[0m     candidate_ids \u001b[39m=\u001b[39m np\u001b[39m.\u001b[39msearchsorted(stable_cumsum(closest_dist_sq), rand_vals)\n\u001b[1;32m    230\u001b[0m     \u001b[39m# XXX: numerical imprecision can result in a candidate_id out of range\u001b[39;00m\n\u001b[1;32m    231\u001b[0m     np\u001b[39m.\u001b[39mclip(candidate_ids, \u001b[39mNone\u001b[39;00m, closest_dist_sq\u001b[39m.\u001b[39msize \u001b[39m-\u001b[39m \u001b[39m1\u001b[39m, out\u001b[39m=\u001b[39mcandidate_ids)\n",
      "File \u001b[0;32m~/mambaforge-pypy3/envs/plotly/lib/python3.8/site-packages/sklearn/utils/extmath.py:1141\u001b[0m, in \u001b[0;36mstable_cumsum\u001b[0;34m(arr, axis, rtol, atol)\u001b[0m\n\u001b[1;32m   1138\u001b[0m out \u001b[39m=\u001b[39m np\u001b[39m.\u001b[39mcumsum(arr, axis\u001b[39m=\u001b[39maxis, dtype\u001b[39m=\u001b[39mnp\u001b[39m.\u001b[39mfloat64)\n\u001b[1;32m   1139\u001b[0m expected \u001b[39m=\u001b[39m np\u001b[39m.\u001b[39msum(arr, axis\u001b[39m=\u001b[39maxis, dtype\u001b[39m=\u001b[39mnp\u001b[39m.\u001b[39mfloat64)\n\u001b[1;32m   1140\u001b[0m \u001b[39mif\u001b[39;00m \u001b[39mnot\u001b[39;00m np\u001b[39m.\u001b[39mall(\n\u001b[0;32m-> 1141\u001b[0m     np\u001b[39m.\u001b[39;49misclose(\n\u001b[1;32m   1142\u001b[0m         out\u001b[39m.\u001b[39;49mtake(\u001b[39m-\u001b[39;49m\u001b[39m1\u001b[39;49m, axis\u001b[39m=\u001b[39;49maxis), expected, rtol\u001b[39m=\u001b[39;49mrtol, atol\u001b[39m=\u001b[39;49matol, equal_nan\u001b[39m=\u001b[39;49m\u001b[39mTrue\u001b[39;49;00m\n\u001b[1;32m   1143\u001b[0m     )\n\u001b[1;32m   1144\u001b[0m ):\n\u001b[1;32m   1145\u001b[0m     warnings\u001b[39m.\u001b[39mwarn(\n\u001b[1;32m   1146\u001b[0m         \u001b[39m\"\u001b[39m\u001b[39mcumsum was found to be unstable: \u001b[39m\u001b[39m\"\u001b[39m\n\u001b[1;32m   1147\u001b[0m         \u001b[39m\"\u001b[39m\u001b[39mits last element does not correspond to sum\u001b[39m\u001b[39m\"\u001b[39m,\n\u001b[1;32m   1148\u001b[0m         \u001b[39mRuntimeWarning\u001b[39;00m,\n\u001b[1;32m   1149\u001b[0m     )\n\u001b[1;32m   1150\u001b[0m \u001b[39mreturn\u001b[39;00m out\n",
      "File \u001b[0;32m<__array_function__ internals>:200\u001b[0m, in \u001b[0;36misclose\u001b[0;34m(*args, **kwargs)\u001b[0m\n",
      "File \u001b[0;32m~/mambaforge-pypy3/envs/plotly/lib/python3.8/site-packages/numpy/core/numeric.py:2380\u001b[0m, in \u001b[0;36misclose\u001b[0;34m(a, b, rtol, atol, equal_nan)\u001b[0m\n\u001b[1;32m   2378\u001b[0m yfin \u001b[39m=\u001b[39m isfinite(y)\n\u001b[1;32m   2379\u001b[0m \u001b[39mif\u001b[39;00m \u001b[39mall\u001b[39m(xfin) \u001b[39mand\u001b[39;00m \u001b[39mall\u001b[39m(yfin):\n\u001b[0;32m-> 2380\u001b[0m     \u001b[39mreturn\u001b[39;00m within_tol(x, y, atol, rtol)\n\u001b[1;32m   2381\u001b[0m \u001b[39melse\u001b[39;00m:\n\u001b[1;32m   2382\u001b[0m     finite \u001b[39m=\u001b[39m xfin \u001b[39m&\u001b[39m yfin\n",
      "File \u001b[0;32m~/mambaforge-pypy3/envs/plotly/lib/python3.8/site-packages/numpy/core/numeric.py:2361\u001b[0m, in \u001b[0;36misclose.<locals>.within_tol\u001b[0;34m(x, y, atol, rtol)\u001b[0m\n\u001b[1;32m   2359\u001b[0m \u001b[39mdef\u001b[39;00m \u001b[39mwithin_tol\u001b[39m(x, y, atol, rtol):\n\u001b[1;32m   2360\u001b[0m     \u001b[39mwith\u001b[39;00m errstate(invalid\u001b[39m=\u001b[39m\u001b[39m'\u001b[39m\u001b[39mignore\u001b[39m\u001b[39m'\u001b[39m), _no_nep50_warning():\n\u001b[0;32m-> 2361\u001b[0m         \u001b[39mreturn\u001b[39;00m less_equal(\u001b[39mabs\u001b[39m(x\u001b[39m-\u001b[39my), atol \u001b[39m+\u001b[39m rtol \u001b[39m*\u001b[39;49m \u001b[39mabs\u001b[39;49m(y))\n",
      "\u001b[0;31mKeyboardInterrupt\u001b[0m: "
     ]
    }
   ],
   "source": [
    "from sklearn.cluster import KMeans\n",
    "\n",
    "# Assuming your dataframe is named 'data' and has columns 'Latitude' and 'Longitude'\n",
    "coordinates = data_df[['Latitude', 'Longitude']].values\n",
    "\n",
    "# Create a KMeans clustering model with 100 clusters\n",
    "kmeans = KMeans(n_clusters=500, random_state=0).fit(coordinates)\n",
    "\n",
    "# Add cluster labels to the original dataframe\n",
    "data_df['Cluster'] = kmeans.labels_"
   ]
  },
  {
   "cell_type": "code",
   "execution_count": null,
   "metadata": {},
   "outputs": [
    {
     "data": {
      "text/html": [
       "<div>\n",
       "<style scoped>\n",
       "    .dataframe tbody tr th:only-of-type {\n",
       "        vertical-align: middle;\n",
       "    }\n",
       "\n",
       "    .dataframe tbody tr th {\n",
       "        vertical-align: top;\n",
       "    }\n",
       "\n",
       "    .dataframe thead th {\n",
       "        text-align: right;\n",
       "    }\n",
       "</style>\n",
       "<table border=\"1\" class=\"dataframe\">\n",
       "  <thead>\n",
       "    <tr style=\"text-align: right;\">\n",
       "      <th></th>\n",
       "      <th>Ticket number</th>\n",
       "      <th>Issue Date</th>\n",
       "      <th>Issue time</th>\n",
       "      <th>Meter Id</th>\n",
       "      <th>Marked Time</th>\n",
       "      <th>RP State Plate</th>\n",
       "      <th>Plate Expiry Date</th>\n",
       "      <th>VIN</th>\n",
       "      <th>Make</th>\n",
       "      <th>Body Style</th>\n",
       "      <th>...</th>\n",
       "      <th>Agency</th>\n",
       "      <th>Violation code</th>\n",
       "      <th>Violation Description</th>\n",
       "      <th>Fine amount</th>\n",
       "      <th>Latitude</th>\n",
       "      <th>Longitude</th>\n",
       "      <th>Agency Description</th>\n",
       "      <th>Color Description</th>\n",
       "      <th>Body Style Description</th>\n",
       "      <th>Issue Hour</th>\n",
       "    </tr>\n",
       "  </thead>\n",
       "  <tbody>\n",
       "  </tbody>\n",
       "</table>\n",
       "<p>0 rows × 23 columns</p>\n",
       "</div>"
      ],
      "text/plain": [
       "Empty DataFrame\n",
       "Columns: [Ticket number, Issue Date, Issue time, Meter Id, Marked Time, RP State Plate, Plate Expiry Date, VIN, Make, Body Style, Color, Location, Route, Agency, Violation code, Violation Description, Fine amount, Latitude, Longitude, Agency Description, Color Description, Body Style Description, Issue Hour]\n",
       "Index: []\n",
       "\n",
       "[0 rows x 23 columns]"
      ]
     },
     "execution_count": 47,
     "metadata": {},
     "output_type": "execute_result"
    }
   ],
   "source": [
    "data_df.head()"
   ]
  },
  {
   "cell_type": "code",
   "execution_count": 19,
   "metadata": {},
   "outputs": [
    {
     "data": {
      "text/html": [
       "<div>\n",
       "<style scoped>\n",
       "    .dataframe tbody tr th:only-of-type {\n",
       "        vertical-align: middle;\n",
       "    }\n",
       "\n",
       "    .dataframe tbody tr th {\n",
       "        vertical-align: top;\n",
       "    }\n",
       "\n",
       "    .dataframe thead th {\n",
       "        text-align: right;\n",
       "    }\n",
       "</style>\n",
       "<table border=\"1\" class=\"dataframe\">\n",
       "  <thead>\n",
       "    <tr style=\"text-align: right;\">\n",
       "      <th></th>\n",
       "      <th>RP State Plate</th>\n",
       "      <th>Make</th>\n",
       "      <th>Body Style</th>\n",
       "      <th>Color Description</th>\n",
       "      <th>Agency Description</th>\n",
       "      <th>Issue Hour</th>\n",
       "      <th>Latitude</th>\n",
       "      <th>Longitude</th>\n",
       "      <th>Violation Description</th>\n",
       "      <th>Cluster</th>\n",
       "    </tr>\n",
       "  </thead>\n",
       "  <tbody>\n",
       "    <tr>\n",
       "      <th>0</th>\n",
       "      <td>CA</td>\n",
       "      <td>MAZD</td>\n",
       "      <td>PA</td>\n",
       "      <td>GREY</td>\n",
       "      <td>54 - DOT - HOLLYWOOD</td>\n",
       "      <td>13.000</td>\n",
       "      <td>-118.340</td>\n",
       "      <td>34.100</td>\n",
       "      <td>WHITE ZONE</td>\n",
       "      <td>274</td>\n",
       "    </tr>\n",
       "    <tr>\n",
       "      <th>1</th>\n",
       "      <td>CA</td>\n",
       "      <td>PORS</td>\n",
       "      <td>PA</td>\n",
       "      <td>BLACK</td>\n",
       "      <td>55 - DOT - SOUTHERN</td>\n",
       "      <td>2.000</td>\n",
       "      <td>-118.335</td>\n",
       "      <td>34.033</td>\n",
       "      <td>STANDNG IN ALLEY</td>\n",
       "      <td>27</td>\n",
       "    </tr>\n",
       "    <tr>\n",
       "      <th>2</th>\n",
       "      <td>CA</td>\n",
       "      <td>RROV</td>\n",
       "      <td>PA</td>\n",
       "      <td>GREY</td>\n",
       "      <td>51 - DOT - WESTERN</td>\n",
       "      <td>1.000</td>\n",
       "      <td>-118.396</td>\n",
       "      <td>34.027</td>\n",
       "      <td>PARKED ON SIDEWALK</td>\n",
       "      <td>231</td>\n",
       "    </tr>\n",
       "    <tr>\n",
       "      <th>3</th>\n",
       "      <td>CA</td>\n",
       "      <td>VOLK</td>\n",
       "      <td>PA</td>\n",
       "      <td>GREY</td>\n",
       "      <td>56 - DOT - CENTRAL</td>\n",
       "      <td>1.000</td>\n",
       "      <td>-118.213</td>\n",
       "      <td>34.043</td>\n",
       "      <td>RED ZONE</td>\n",
       "      <td>67</td>\n",
       "    </tr>\n",
       "    <tr>\n",
       "      <th>4</th>\n",
       "      <td>CA</td>\n",
       "      <td>HOND</td>\n",
       "      <td>PA</td>\n",
       "      <td>BLACK</td>\n",
       "      <td>53 - DOT - VALLEY</td>\n",
       "      <td>2.000</td>\n",
       "      <td>-118.446</td>\n",
       "      <td>34.229</td>\n",
       "      <td>PREFERENTIAL PARKING</td>\n",
       "      <td>399</td>\n",
       "    </tr>\n",
       "  </tbody>\n",
       "</table>\n",
       "</div>"
      ],
      "text/plain": [
       "  RP State Plate  Make Body Style Color Description    Agency Description  \\\n",
       "0             CA  MAZD         PA              GREY  54 - DOT - HOLLYWOOD   \n",
       "1             CA  PORS         PA             BLACK   55 - DOT - SOUTHERN   \n",
       "2             CA  RROV         PA              GREY    51 - DOT - WESTERN   \n",
       "3             CA  VOLK         PA              GREY    56 - DOT - CENTRAL   \n",
       "4             CA  HOND         PA             BLACK     53 - DOT - VALLEY   \n",
       "\n",
       "   Issue Hour  Latitude  Longitude Violation Description  Cluster  \n",
       "0      13.000  -118.340     34.100            WHITE ZONE      274  \n",
       "1       2.000  -118.335     34.033      STANDNG IN ALLEY       27  \n",
       "2       1.000  -118.396     34.027    PARKED ON SIDEWALK      231  \n",
       "3       1.000  -118.213     34.043              RED ZONE       67  \n",
       "4       2.000  -118.446     34.229  PREFERENTIAL PARKING      399  "
      ]
     },
     "execution_count": 19,
     "metadata": {},
     "output_type": "execute_result"
    }
   ],
   "source": [
    "# data_df.to_csv('../cleaned_2020_2022_parking_citation.csv', index=False)\n",
    "data_df = pd.read_csv('../cleaned_2020_2022_parking_citation.csv')\n",
    "data_df.head()"
   ]
  },
  {
   "cell_type": "code",
   "execution_count": 20,
   "metadata": {},
   "outputs": [
    {
     "data": {
      "text/plain": [
       "NO PARK/STREET CLEAN    1193214\n",
       "METER EXP.               831204\n",
       "RED ZONE                 525621\n",
       "PREFERENTIAL PARKING     360718\n",
       "DISPLAY OF TABS          276368\n",
       "                         ...   \n",
       "PARKNG IN TUNNEL              1\n",
       "PK ON PRIV ST                 1\n",
       "REPAIRING VEH/STREET          1\n",
       "OVERNIGHT PARKING             1\n",
       "ON RR TRACK/7.5 FT            1\n",
       "Name: Violation Description, Length: 85, dtype: int64"
      ]
     },
     "execution_count": 20,
     "metadata": {},
     "output_type": "execute_result"
    }
   ],
   "source": [
    "# The label is imbalanced\n",
    "data_df['Violation Description'].value_counts()"
   ]
  },
  {
   "cell_type": "code",
   "execution_count": null,
   "metadata": {},
   "outputs": [],
   "source": []
  },
  {
   "cell_type": "code",
   "execution_count": null,
   "metadata": {},
   "outputs": [],
   "source": []
  },
  {
   "cell_type": "code",
   "execution_count": null,
   "metadata": {},
   "outputs": [],
   "source": []
  },
  {
   "cell_type": "code",
   "execution_count": null,
   "metadata": {},
   "outputs": [],
   "source": []
  },
  {
   "cell_type": "code",
   "execution_count": null,
   "metadata": {},
   "outputs": [],
   "source": []
  },
  {
   "cell_type": "code",
   "execution_count": null,
   "metadata": {},
   "outputs": [],
   "source": []
  },
  {
   "cell_type": "code",
   "execution_count": null,
   "metadata": {},
   "outputs": [],
   "source": []
  },
  {
   "cell_type": "code",
   "execution_count": null,
   "metadata": {},
   "outputs": [],
   "source": []
  },
  {
   "cell_type": "code",
   "execution_count": 1,
   "metadata": {},
   "outputs": [
    {
     "name": "stdout",
     "output_type": "stream",
     "text": [
      "True\n",
      "cuda:0\n"
     ]
    },
    {
     "name": "stderr",
     "output_type": "stream",
     "text": [
      "/home/tealeave/mambaforge/envs/d2l/lib/python3.9/site-packages/sklearn/preprocessing/_encoders.py:972: FutureWarning: `sparse` was renamed to `sparse_output` in version 1.2 and will be removed in 1.4. `sparse_output` is ignored unless you leave `sparse` to its default value.\n",
      "  warnings.warn(\n"
     ]
    },
    {
     "name": "stdout",
     "output_type": "stream",
     "text": [
      "Epoch 1/10, Loss: 2.056368350982666\n"
     ]
    },
    {
     "name": "stderr",
     "output_type": "stream",
     "text": [
      "/home/tealeave/mambaforge/envs/d2l/lib/python3.9/site-packages/sklearn/metrics/_classification.py:1469: UndefinedMetricWarning: Precision is ill-defined and being set to 0.0 in labels with no predicted samples. Use `zero_division` parameter to control this behavior.\n",
      "  _warn_prf(average, modifier, msg_start, len(result))\n"
     ]
    },
    {
     "name": "stdout",
     "output_type": "stream",
     "text": [
      "Training Accuracy: 0.4677, Precision: 0.1139, Recall: 0.0820\n",
      "Epoch 2/10, Loss: 1.9851702451705933\n"
     ]
    },
    {
     "name": "stderr",
     "output_type": "stream",
     "text": [
      "/home/tealeave/mambaforge/envs/d2l/lib/python3.9/site-packages/sklearn/metrics/_classification.py:1469: UndefinedMetricWarning: Precision is ill-defined and being set to 0.0 in labels with no predicted samples. Use `zero_division` parameter to control this behavior.\n",
      "  _warn_prf(average, modifier, msg_start, len(result))\n"
     ]
    },
    {
     "name": "stdout",
     "output_type": "stream",
     "text": [
      "Training Accuracy: 0.4759, Precision: 0.1453, Recall: 0.0965\n",
      "Epoch 3/10, Loss: 3.128213882446289\n"
     ]
    },
    {
     "name": "stderr",
     "output_type": "stream",
     "text": [
      "/home/tealeave/mambaforge/envs/d2l/lib/python3.9/site-packages/sklearn/metrics/_classification.py:1469: UndefinedMetricWarning: Precision is ill-defined and being set to 0.0 in labels with no predicted samples. Use `zero_division` parameter to control this behavior.\n",
      "  _warn_prf(average, modifier, msg_start, len(result))\n"
     ]
    },
    {
     "name": "stdout",
     "output_type": "stream",
     "text": [
      "Training Accuracy: 0.4795, Precision: 0.1472, Recall: 0.0981\n",
      "Epoch 4/10, Loss: 2.023550271987915\n"
     ]
    },
    {
     "name": "stderr",
     "output_type": "stream",
     "text": [
      "/home/tealeave/mambaforge/envs/d2l/lib/python3.9/site-packages/sklearn/metrics/_classification.py:1469: UndefinedMetricWarning: Precision is ill-defined and being set to 0.0 in labels with no predicted samples. Use `zero_division` parameter to control this behavior.\n",
      "  _warn_prf(average, modifier, msg_start, len(result))\n"
     ]
    },
    {
     "name": "stdout",
     "output_type": "stream",
     "text": [
      "Training Accuracy: 0.4786, Precision: 0.1483, Recall: 0.0996\n",
      "Epoch 5/10, Loss: 2.3885669708251953\n"
     ]
    },
    {
     "name": "stderr",
     "output_type": "stream",
     "text": [
      "/home/tealeave/mambaforge/envs/d2l/lib/python3.9/site-packages/sklearn/metrics/_classification.py:1469: UndefinedMetricWarning: Precision is ill-defined and being set to 0.0 in labels with no predicted samples. Use `zero_division` parameter to control this behavior.\n",
      "  _warn_prf(average, modifier, msg_start, len(result))\n"
     ]
    },
    {
     "name": "stdout",
     "output_type": "stream",
     "text": [
      "Training Accuracy: 0.4815, Precision: 0.1482, Recall: 0.0982\n",
      "Epoch 6/10, Loss: 2.1242730617523193\n"
     ]
    },
    {
     "name": "stderr",
     "output_type": "stream",
     "text": [
      "/home/tealeave/mambaforge/envs/d2l/lib/python3.9/site-packages/sklearn/metrics/_classification.py:1469: UndefinedMetricWarning: Precision is ill-defined and being set to 0.0 in labels with no predicted samples. Use `zero_division` parameter to control this behavior.\n",
      "  _warn_prf(average, modifier, msg_start, len(result))\n"
     ]
    },
    {
     "name": "stdout",
     "output_type": "stream",
     "text": [
      "Training Accuracy: 0.4803, Precision: 0.1527, Recall: 0.0955\n",
      "Epoch 7/10, Loss: 1.4518883228302002\n"
     ]
    },
    {
     "name": "stderr",
     "output_type": "stream",
     "text": [
      "/home/tealeave/mambaforge/envs/d2l/lib/python3.9/site-packages/sklearn/metrics/_classification.py:1469: UndefinedMetricWarning: Precision is ill-defined and being set to 0.0 in labels with no predicted samples. Use `zero_division` parameter to control this behavior.\n",
      "  _warn_prf(average, modifier, msg_start, len(result))\n"
     ]
    },
    {
     "name": "stdout",
     "output_type": "stream",
     "text": [
      "Training Accuracy: 0.4830, Precision: 0.1457, Recall: 0.1003\n",
      "Epoch 8/10, Loss: 2.7058959007263184\n"
     ]
    },
    {
     "name": "stderr",
     "output_type": "stream",
     "text": [
      "/home/tealeave/mambaforge/envs/d2l/lib/python3.9/site-packages/sklearn/metrics/_classification.py:1469: UndefinedMetricWarning: Precision is ill-defined and being set to 0.0 in labels with no predicted samples. Use `zero_division` parameter to control this behavior.\n",
      "  _warn_prf(average, modifier, msg_start, len(result))\n"
     ]
    },
    {
     "name": "stdout",
     "output_type": "stream",
     "text": [
      "Training Accuracy: 0.4823, Precision: 0.1532, Recall: 0.0995\n",
      "Epoch 9/10, Loss: 2.7009828090667725\n"
     ]
    },
    {
     "name": "stderr",
     "output_type": "stream",
     "text": [
      "/home/tealeave/mambaforge/envs/d2l/lib/python3.9/site-packages/sklearn/metrics/_classification.py:1469: UndefinedMetricWarning: Precision is ill-defined and being set to 0.0 in labels with no predicted samples. Use `zero_division` parameter to control this behavior.\n",
      "  _warn_prf(average, modifier, msg_start, len(result))\n"
     ]
    },
    {
     "name": "stdout",
     "output_type": "stream",
     "text": [
      "Training Accuracy: 0.4835, Precision: 0.1734, Recall: 0.1033\n",
      "Epoch 10/10, Loss: 2.162100315093994\n"
     ]
    },
    {
     "name": "stderr",
     "output_type": "stream",
     "text": [
      "/home/tealeave/mambaforge/envs/d2l/lib/python3.9/site-packages/sklearn/metrics/_classification.py:1469: UndefinedMetricWarning: Precision is ill-defined and being set to 0.0 in labels with no predicted samples. Use `zero_division` parameter to control this behavior.\n",
      "  _warn_prf(average, modifier, msg_start, len(result))\n"
     ]
    },
    {
     "name": "stdout",
     "output_type": "stream",
     "text": [
      "Training Accuracy: 0.4829, Precision: 0.1758, Recall: 0.1015\n",
      "Total execution time: 178.37 seconds\n"
     ]
    }
   ],
   "source": [
    "import pandas as pd\n",
    "import torch\n",
    "import torch.nn as nn\n",
    "import torch.optim as optim\n",
    "from torch.utils.data import DataLoader, TensorDataset\n",
    "from sklearn.model_selection import train_test_split\n",
    "from sklearn.preprocessing import LabelEncoder, OneHotEncoder\n",
    "from sklearn.metrics import precision_score, recall_score\n",
    "# from sklearn.utils import class_weight\n",
    "import time\n",
    "\n",
    "start_time = time.time()\n",
    "\n",
    "# Check cuda\n",
    "print(torch.cuda.is_available())\n",
    "device = torch.device(\"cuda:0\" if torch.cuda.is_available() else \"cpu\")\n",
    "\n",
    "# Assuming that we are on a CUDA machine, this should print a CUDA device:\n",
    "print(device)\n",
    "\n",
    "\n",
    "# 1. Data Preparation\n",
    "# ---------------------\n",
    "data = pd.read_csv(\"../cleaned_2020_2022_parking_citation.csv\")\n",
    "features = [ 'RP State Plate', 'Make', 'Body Style', 'Color Description', 'Agency Description', 'Issue Hour', 'Cluster']\n",
    "X = data[features]\n",
    "\n",
    "# One-hot encode all features\n",
    "ohe = OneHotEncoder(sparse=False, dtype=int)\n",
    "X_encoded = ohe.fit_transform(X)\n",
    "encoded_columns = ohe.get_feature_names_out(features)  # Get column names for the encoded columns\n",
    "X = pd.DataFrame(X_encoded, columns=encoded_columns)\n",
    "\n",
    "# Extract target variable and encode it\n",
    "y = LabelEncoder().fit_transform(data['Violation Description'])\n",
    "\n",
    "# Split the data\n",
    "X_train, X_test, y_train, y_test = train_test_split(X, y, test_size=0.2, random_state=42)\n",
    "\n",
    "# # Now, after the split, calculate the class weights\n",
    "# class_weights = class_weight.compute_class_weight('balanced', classes=np.unique(y_train), y=y_train)\n",
    "# class_weights = torch.tensor(class_weights, dtype=torch.float32).to(device)\n",
    "\n",
    "X_train_tensor = torch.tensor(X_train.values, dtype=torch.float32).to(device)\n",
    "y_train_tensor = torch.tensor(y_train, dtype=torch.long).to(device)\n",
    "batch_size = 256\n",
    "train_dataset = TensorDataset(X_train_tensor, y_train_tensor)\n",
    "train_loader = DataLoader(train_dataset, batch_size=batch_size, shuffle=True)\n",
    "\n",
    "# 2. Model Definition\n",
    "# ---------------------\n",
    "class SimpleNN(nn.Module):\n",
    "    def __init__(self, input_dim, output_dim):\n",
    "        super(SimpleNN, self).__init__()\n",
    "        self.layer1 = nn.Linear(input_dim, 128)\n",
    "        self.layer2 = nn.Linear(128, 64)\n",
    "        self.layer3 = nn.Linear(64, 32)  # New layer\n",
    "        self.layer4 = nn.Linear(32, output_dim)  # Modified from layer3 to layer4\n",
    "\n",
    "    def forward(self, x):\n",
    "        x = torch.relu(self.layer1(x))\n",
    "        x = torch.relu(self.layer2(x))\n",
    "        x = torch.relu(self.layer3(x))  # Activation for the new layer\n",
    "        x = self.layer4(x)  # Final layer\n",
    "        return x\n",
    "\n",
    "model = SimpleNN(X_train.shape[1], len(set(y_train))).to(device)\n",
    "# criterion = nn.CrossEntropyLoss(weight=class_weights)\n",
    "criterion = nn.CrossEntropyLoss()\n",
    "optimizer = optim.Adam(model.parameters(), lr=0.001)\n",
    "\n",
    "# Initializing lists to store precision and recall values for each epoch\n",
    "epoch_precisions = []\n",
    "epoch_recalls = []\n",
    "epochs = 10\n",
    "# 3. Training\n",
    "# ------------\n",
    "for epoch in range(epochs):\n",
    "    for batch_idx, (data, target) in enumerate(train_loader):\n",
    "        optimizer.zero_grad()\n",
    "        outputs = model(data)\n",
    "        loss = criterion(outputs, target)\n",
    "        loss.backward()\n",
    "        optimizer.step()\n",
    "    print(f\"Epoch {epoch+1}/{epochs}, Loss: {loss.item()}\")\n",
    "\n",
    "    # 4. Evaluation\n",
    "    # ---------------\n",
    "    with torch.no_grad():\n",
    "        y_pred = model(X_train_tensor)\n",
    "        _, predicted = torch.max(y_pred, 1)\n",
    "        \n",
    "        # Convert tensors to numpy arrays for sklearn metrics\n",
    "        true_labels = y_train_tensor.cpu().numpy()\n",
    "        pred_labels = predicted.cpu().numpy()\n",
    "        \n",
    "        # Calculate precision and recall\n",
    "        precision = precision_score(true_labels, pred_labels, average='macro')\n",
    "        recall = recall_score(true_labels, pred_labels, average='macro')\n",
    "        epoch_precisions.append(precision)\n",
    "        epoch_recalls.append(recall)\n",
    "\n",
    "        accuracy = (predicted == y_train_tensor).sum().item() / len(y_train_tensor)\n",
    "        print(f\"Training Accuracy: {accuracy:.4f}, Precision: {precision:.4f}, Recall: {recall:.4f}\")\n",
    "\n",
    "end_time = time.time()\n",
    "elapsed_time = end_time - start_time\n",
    "print(f\"Total execution time: {elapsed_time:.2f} seconds\")"
   ]
  },
  {
   "cell_type": "code",
   "execution_count": null,
   "metadata": {},
   "outputs": [],
   "source": []
  },
  {
   "cell_type": "code",
   "execution_count": null,
   "metadata": {},
   "outputs": [],
   "source": []
  },
  {
   "cell_type": "code",
   "execution_count": null,
   "metadata": {},
   "outputs": [],
   "source": []
  },
  {
   "cell_type": "code",
   "execution_count": null,
   "metadata": {},
   "outputs": [],
   "source": []
  },
  {
   "cell_type": "code",
   "execution_count": null,
   "metadata": {},
   "outputs": [],
   "source": []
  },
  {
   "cell_type": "code",
   "execution_count": null,
   "metadata": {},
   "outputs": [],
   "source": []
  },
  {
   "cell_type": "code",
   "execution_count": null,
   "metadata": {},
   "outputs": [],
   "source": []
  },
  {
   "cell_type": "code",
   "execution_count": null,
   "metadata": {},
   "outputs": [],
   "source": []
  },
  {
   "cell_type": "code",
   "execution_count": null,
   "metadata": {},
   "outputs": [],
   "source": []
  },
  {
   "cell_type": "code",
   "execution_count": null,
   "metadata": {},
   "outputs": [],
   "source": []
  },
  {
   "cell_type": "code",
   "execution_count": 50,
   "metadata": {
    "_uuid": "f26483133cdd92e7b8e9c0a10475b9ecffde5321"
   },
   "outputs": [],
   "source": [
    "# import xgboost as xgb\n",
    "# from sklearn.model_selection import train_test_split\n",
    "# from sklearn.preprocessing import StandardScaler, LabelEncoder\n",
    "# import pandas as pd\n",
    "\n",
    "# # Load your data\n",
    "# data = pd.read_csv(\"cleaned_2022_parking_citation.csv\")\n",
    "\n",
    "# # Preprocess the data (similar to what we did above)\n",
    "# data = data.dropna(subset=['Violation Description'])\n",
    "# features = ['RP State Plate', 'Make', 'Body Style', 'Color Description', 'Agency Description', 'Issue Hour']\n",
    "# X = data[features]\n",
    "# X = X.fillna('Unknown')\n",
    "\n",
    "# label_encoders = {}\n",
    "# for col in X.select_dtypes(include=['object']).columns:\n",
    "#     le = LabelEncoder()\n",
    "#     X[col] = le.fit_transform(X[col])\n",
    "#     label_encoders[col] = le\n",
    "\n",
    "# scaler = StandardScaler()\n",
    "# X[['Issue time', 'Issue Hour']] = scaler.fit_transform(X[['Issue time', 'Issue Hour']])\n",
    "# y = LabelEncoder().fit_transform(data['Violation Description'])\n",
    "\n",
    "# # Split the data\n",
    "# X_train, X_test, y_train, y_test = train_test_split(X, y, test_size=0.2, random_state=42)\n",
    "\n",
    "# # Initialize and train the XGBoost classifier\n",
    "# clf = xgb.XGBClassifier(objective='multi:softmax', num_class=len(set(y_train)), random_state=42, use_label_encoder=False)\n",
    "# clf.fit(X_train, y_train, eval_metric='mlogloss')\n",
    "\n",
    "# # Get training accuracy (you can also get testing accuracy if you wish)\n",
    "# train_accuracy = clf.score(X_train, y_train)\n",
    "# print(f\"Training Accuracy: {train_accuracy}\")"
   ]
  },
  {
   "cell_type": "code",
   "execution_count": null,
   "metadata": {},
   "outputs": [],
   "source": []
  }
 ],
 "metadata": {
  "kernelspec": {
   "display_name": "Python 3 (ipykernel)",
   "language": "python",
   "name": "python3"
  },
  "language_info": {
   "codemirror_mode": {
    "name": "ipython",
    "version": 3
   },
   "file_extension": ".py",
   "mimetype": "text/x-python",
   "name": "python",
   "nbconvert_exporter": "python",
   "pygments_lexer": "ipython3",
   "version": "3.9.16"
  }
 },
 "nbformat": 4,
 "nbformat_minor": 1
}
